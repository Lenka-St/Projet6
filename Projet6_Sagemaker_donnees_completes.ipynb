{
 "cells": [
  {
   "cell_type": "markdown",
   "metadata": {
    "colab_type": "text",
    "id": "zIZjaYQ63YyH"
   },
   "source": [
    "# Charger les bibliothèques\n"
   ]
  },
  {
   "cell_type": "code",
   "execution_count": 1,
   "metadata": {
    "colab": {},
    "colab_type": "code",
    "id": "_hyOK3bR5oxE"
   },
   "outputs": [],
   "source": [
    "import tensorflow as tf"
   ]
  },
  {
   "cell_type": "code",
   "execution_count": 2,
   "metadata": {
    "colab": {
     "base_uri": "https://localhost:8080/",
     "height": 36
    },
    "colab_type": "code",
    "id": "7pnBVwLy3nsE",
    "outputId": "01cec48e-b1f5-4c95-f4ae-fef4d93c24ff"
   },
   "outputs": [
    {
     "data": {
      "text/plain": [
       "'1.14.0'"
      ]
     },
     "execution_count": 2,
     "metadata": {},
     "output_type": "execute_result"
    }
   ],
   "source": [
    "tf.__version__"
   ]
  },
  {
   "cell_type": "code",
   "execution_count": 3,
   "metadata": {},
   "outputs": [],
   "source": [
    "from tensorflow import keras"
   ]
  },
  {
   "cell_type": "code",
   "execution_count": 4,
   "metadata": {},
   "outputs": [
    {
     "data": {
      "text/plain": [
       "'2.2.4-tf'"
      ]
     },
     "execution_count": 4,
     "metadata": {},
     "output_type": "execute_result"
    }
   ],
   "source": [
    "keras.__version__"
   ]
  },
  {
   "cell_type": "code",
   "execution_count": 5,
   "metadata": {},
   "outputs": [
    {
     "name": "stdout",
     "output_type": "stream",
     "text": [
      "Collecting pip\n",
      "\u001b[?25l  Downloading https://files.pythonhosted.org/packages/00/b6/9cfa56b4081ad13874b0c6f96af8ce16cfbc1cb06bedf8e9164ce5551ec1/pip-19.3.1-py2.py3-none-any.whl (1.4MB)\n",
      "\u001b[K    100% |████████████████████████████████| 1.4MB 13.2MB/s ta 0:00:01\n",
      "\u001b[?25hInstalling collected packages: pip\n",
      "  Found existing installation: pip 10.0.1\n",
      "    Uninstalling pip-10.0.1:\n",
      "      Successfully uninstalled pip-10.0.1\n",
      "Successfully installed pip-19.3.1\n"
     ]
    }
   ],
   "source": [
    "!pip install --upgrade pip"
   ]
  },
  {
   "cell_type": "code",
   "execution_count": 6,
   "metadata": {},
   "outputs": [
    {
     "name": "stdout",
     "output_type": "stream",
     "text": [
      "\u001b[33mDEPRECATION: Python 2.7 will reach the end of its life on January 1st, 2020. Please upgrade your Python as Python 2.7 won't be maintained after that date. A future version of pip will drop support for Python 2.7. More details about Python 2 support in pip, can be found at https://pip.pypa.io/en/latest/development/release-process/#python-2-support\u001b[0m\n",
      "Collecting joblib\n",
      "\u001b[?25l  Downloading https://files.pythonhosted.org/packages/28/5c/cf6a2b65a321c4a209efcdf64c2689efae2cb62661f8f6f4bb28547cf1bf/joblib-0.14.1-py2.py3-none-any.whl (294kB)\n",
      "\u001b[K     |████████████████████████████████| 296kB 26.2MB/s eta 0:00:01\n",
      "\u001b[?25hInstalling collected packages: joblib\n",
      "Successfully installed joblib-0.14.1\n"
     ]
    }
   ],
   "source": [
    "!pip install joblib"
   ]
  },
  {
   "cell_type": "code",
   "execution_count": 7,
   "metadata": {},
   "outputs": [
    {
     "name": "stdout",
     "output_type": "stream",
     "text": [
      "\u001b[33mDEPRECATION: Python 2.7 will reach the end of its life on January 1st, 2020. Please upgrade your Python as Python 2.7 won't be maintained after that date. A future version of pip will drop support for Python 2.7. More details about Python 2 support in pip, can be found at https://pip.pypa.io/en/latest/development/release-process/#python-2-support\u001b[0m\n",
      "Collecting pathlib\n",
      "\u001b[?25l  Downloading https://files.pythonhosted.org/packages/ac/aa/9b065a76b9af472437a0059f77e8f962fe350438b927cb80184c32f075eb/pathlib-1.0.1.tar.gz (49kB)\n",
      "\u001b[K     |████████████████████████████████| 51kB 9.5MB/s  eta 0:00:01\n",
      "\u001b[?25hBuilding wheels for collected packages: pathlib\n",
      "  Building wheel for pathlib (setup.py) ... \u001b[?25ldone\n",
      "\u001b[?25h  Created wheel for pathlib: filename=pathlib-1.0.1-cp27-none-any.whl size=13524 sha256=1e1b0798230d7a7d9bfdab7f86726351f241b04acde9f6b483f1b77b395079f0\n",
      "  Stored in directory: /home/ec2-user/.cache/pip/wheels/f9/b2/4a/68efdfe5093638a9918bd1bb734af625526e849487200aa171\n",
      "Successfully built pathlib\n",
      "Installing collected packages: pathlib\n",
      "Successfully installed pathlib-1.0.1\n"
     ]
    }
   ],
   "source": [
    "!pip install pathlib"
   ]
  },
  {
   "cell_type": "code",
   "execution_count": 8,
   "metadata": {
    "colab": {
     "base_uri": "https://localhost:8080/",
     "height": 36
    },
    "colab_type": "code",
    "id": "GokHk1UN26St",
    "outputId": "b4678b24-d0bc-4458-9544-3aa490d2b706"
   },
   "outputs": [
    {
     "name": "stderr",
     "output_type": "stream",
     "text": [
      "Using TensorFlow backend.\n"
     ]
    }
   ],
   "source": [
    "import numpy as np\n",
    "from keras.preprocessing.image import ImageDataGenerator\n",
    "import joblib\n",
    "\n",
    "import time\n",
    "\n",
    "import pathlib\n"
   ]
  },
  {
   "cell_type": "markdown",
   "metadata": {
    "colab_type": "text",
    "id": "dgefRDzrsP9J"
   },
   "source": [
    "# Importer les données"
   ]
  },
  {
   "cell_type": "code",
   "execution_count": 9,
   "metadata": {
    "colab": {
     "base_uri": "https://localhost:8080/",
     "height": 36
    },
    "colab_type": "code",
    "id": "EpRiW_CIOelb",
    "outputId": "79861ab3-6f5f-46d5-a0dd-d4ab8e135330"
   },
   "outputs": [
    {
     "name": "stdout",
     "output_type": "stream",
     "text": [
      "/home/ec2-user/SageMaker/redim_download\n"
     ]
    }
   ],
   "source": [
    "#%cd /content/gdrive/My\\ Drive/Colab\\ Notebooks/best_breeds_redim\n",
    "#%cd Data/redim/\n",
    "%cd redim_download"
   ]
  },
  {
   "cell_type": "code",
   "execution_count": 9,
   "metadata": {},
   "outputs": [
    {
     "name": "stdout",
     "output_type": "stream",
     "text": [
      "Archive:  best_breeds_redim.zip\n",
      "   creating: best_breeds_redim/test/\n",
      "   creating: best_breeds_redim/test/n02113799-standard_poodle/\n",
      "  inflating: best_breeds_redim/test/n02113799-standard_poodle/n02113799_1183.jpg  \n",
      "  inflating: best_breeds_redim/test/n02113799-standard_poodle/n02113799_1395.jpg  \n",
      "  inflating: best_breeds_redim/test/n02113799-standard_poodle/n02113799_1518.jpg  \n",
      "  inflating: best_breeds_redim/test/n02113799-standard_poodle/n02113799_1728.jpg  \n",
      "  inflating: best_breeds_redim/test/n02113799-standard_poodle/n02113799_2096.jpg  \n",
      "  inflating: best_breeds_redim/test/n02113799-standard_poodle/n02113799_2292.jpg  \n",
      "  inflating: best_breeds_redim/test/n02113799-standard_poodle/n02113799_2401.jpg  \n",
      "  inflating: best_breeds_redim/test/n02113799-standard_poodle/n02113799_2600.jpg  \n",
      "  inflating: best_breeds_redim/test/n02113799-standard_poodle/n02113799_273.jpg  \n",
      "  inflating: best_breeds_redim/test/n02113799-standard_poodle/n02113799_298.jpg  \n",
      "  inflating: best_breeds_redim/test/n02113799-standard_poodle/n02113799_3055.jpg  \n",
      "  inflating: best_breeds_redim/test/n02113799-standard_poodle/n02113799_333.jpg  \n",
      "  inflating: best_breeds_redim/test/n02113799-standard_poodle/n02113799_336.jpg  \n",
      "  inflating: best_breeds_redim/test/n02113799-standard_poodle/n02113799_3978.jpg  \n",
      "  inflating: best_breeds_redim/test/n02113799-standard_poodle/n02113799_4248.jpg  \n",
      "  inflating: best_breeds_redim/test/n02113799-standard_poodle/n02113799_447.jpg  \n",
      "  inflating: best_breeds_redim/test/n02113799-standard_poodle/n02113799_4499.jpg  \n",
      "  inflating: best_breeds_redim/test/n02113799-standard_poodle/n02113799_4761.jpg  \n",
      "  inflating: best_breeds_redim/test/n02113799-standard_poodle/n02113799_5075.jpg  \n",
      "  inflating: best_breeds_redim/test/n02113799-standard_poodle/n02113799_525.jpg  \n",
      "  inflating: best_breeds_redim/test/n02113799-standard_poodle/n02113799_5486.jpg  \n",
      "  inflating: best_breeds_redim/test/n02113799-standard_poodle/n02113799_5600.jpg  \n",
      "  inflating: best_breeds_redim/test/n02113799-standard_poodle/n02113799_5986.jpg  \n",
      "  inflating: best_breeds_redim/test/n02113799-standard_poodle/n02113799_6382.jpg  \n",
      "  inflating: best_breeds_redim/test/n02113799-standard_poodle/n02113799_7258.jpg  \n",
      "  inflating: best_breeds_redim/test/n02113799-standard_poodle/n02113799_7299.jpg  \n",
      "  inflating: best_breeds_redim/test/n02113799-standard_poodle/n02113799_7448.jpg  \n",
      "  inflating: best_breeds_redim/test/n02113799-standard_poodle/n02113799_801.jpg  \n",
      "  inflating: best_breeds_redim/test/n02113799-standard_poodle/n02113799_815.jpg  \n",
      "  inflating: best_breeds_redim/test/n02113799-standard_poodle/n02113799_871.jpg  \n",
      "  inflating: best_breeds_redim/test/n02113799-standard_poodle/n02113799_895.jpg  \n",
      "  inflating: best_breeds_redim/test/n02113799-standard_poodle/n02113799_911.jpg  \n",
      "  inflating: best_breeds_redim/test/n02113799-standard_poodle/n02113799_961.jpg  \n",
      "  inflating: best_breeds_redim/test/n02113799-standard_poodle/n02113799_963.jpg  \n",
      "   creating: best_breeds_redim/test/n02113978-Mexican_hairless/\n",
      "  inflating: best_breeds_redim/test/n02113978-Mexican_hairless/n02113978_1034.jpg  \n",
      "  inflating: best_breeds_redim/test/n02113978-Mexican_hairless/n02113978_131.jpg  \n",
      "  inflating: best_breeds_redim/test/n02113978-Mexican_hairless/n02113978_143.jpg  \n",
      "  inflating: best_breeds_redim/test/n02113978-Mexican_hairless/n02113978_1478.jpg  \n",
      "  inflating: best_breeds_redim/test/n02113978-Mexican_hairless/n02113978_1595.jpg  \n",
      "  inflating: best_breeds_redim/test/n02113978-Mexican_hairless/n02113978_177.jpg  \n",
      "  inflating: best_breeds_redim/test/n02113978-Mexican_hairless/n02113978_183.jpg  \n",
      "  inflating: best_breeds_redim/test/n02113978-Mexican_hairless/n02113978_1867.jpg  \n",
      "  inflating: best_breeds_redim/test/n02113978-Mexican_hairless/n02113978_1954.jpg  \n",
      "  inflating: best_breeds_redim/test/n02113978-Mexican_hairless/n02113978_1994.jpg  \n",
      "  inflating: best_breeds_redim/test/n02113978-Mexican_hairless/n02113978_2073.jpg  \n",
      "  inflating: best_breeds_redim/test/n02113978-Mexican_hairless/n02113978_216.jpg  \n",
      "  inflating: best_breeds_redim/test/n02113978-Mexican_hairless/n02113978_2441.jpg  \n",
      "  inflating: best_breeds_redim/test/n02113978-Mexican_hairless/n02113978_2695.jpg  \n",
      "  inflating: best_breeds_redim/test/n02113978-Mexican_hairless/n02113978_2726.jpg  \n",
      "  inflating: best_breeds_redim/test/n02113978-Mexican_hairless/n02113978_2966.jpg  \n",
      "  inflating: best_breeds_redim/test/n02113978-Mexican_hairless/n02113978_310.jpg  \n",
      "  inflating: best_breeds_redim/test/n02113978-Mexican_hairless/n02113978_3220.jpg  \n",
      "  inflating: best_breeds_redim/test/n02113978-Mexican_hairless/n02113978_3375.jpg  \n",
      "  inflating: best_breeds_redim/test/n02113978-Mexican_hairless/n02113978_3474.jpg  \n",
      "  inflating: best_breeds_redim/test/n02113978-Mexican_hairless/n02113978_3640.jpg  \n",
      "  inflating: best_breeds_redim/test/n02113978-Mexican_hairless/n02113978_3746.jpg  \n",
      "  inflating: best_breeds_redim/test/n02113978-Mexican_hairless/n02113978_3864.jpg  \n",
      "  inflating: best_breeds_redim/test/n02113978-Mexican_hairless/n02113978_451.jpg  \n",
      "  inflating: best_breeds_redim/test/n02113978-Mexican_hairless/n02113978_505.jpg  \n",
      "  inflating: best_breeds_redim/test/n02113978-Mexican_hairless/n02113978_553.jpg  \n",
      "  inflating: best_breeds_redim/test/n02113978-Mexican_hairless/n02113978_632.jpg  \n",
      "  inflating: best_breeds_redim/test/n02113978-Mexican_hairless/n02113978_773.jpg  \n",
      "  inflating: best_breeds_redim/test/n02113978-Mexican_hairless/n02113978_903.jpg  \n",
      "  inflating: best_breeds_redim/test/n02113978-Mexican_hairless/n02113978_937.jpg  \n",
      "   creating: best_breeds_redim/test/n02115641-dingo/\n",
      "  inflating: best_breeds_redim/test/n02115641-dingo/n02115641_10286.jpg  \n",
      "  inflating: best_breeds_redim/test/n02115641-dingo/n02115641_10506.jpg  \n",
      "  inflating: best_breeds_redim/test/n02115641-dingo/n02115641_10570.jpg  \n",
      "  inflating: best_breeds_redim/test/n02115641-dingo/n02115641_11220.jpg  \n",
      "  inflating: best_breeds_redim/test/n02115641-dingo/n02115641_1215.jpg  \n",
      "  inflating: best_breeds_redim/test/n02115641-dingo/n02115641_12634.jpg  \n",
      "  inflating: best_breeds_redim/test/n02115641-dingo/n02115641_13253.jpg  \n",
      "  inflating: best_breeds_redim/test/n02115641-dingo/n02115641_1380.jpg  \n",
      "  inflating: best_breeds_redim/test/n02115641-dingo/n02115641_2096.jpg  \n",
      "  inflating: best_breeds_redim/test/n02115641-dingo/n02115641_2440.jpg  \n",
      "  inflating: best_breeds_redim/test/n02115641-dingo/n02115641_2764.jpg  \n",
      "  inflating: best_breeds_redim/test/n02115641-dingo/n02115641_3214.jpg  \n",
      "  inflating: best_breeds_redim/test/n02115641-dingo/n02115641_4601.jpg  \n",
      "  inflating: best_breeds_redim/test/n02115641-dingo/n02115641_4692.jpg  \n",
      "  inflating: best_breeds_redim/test/n02115641-dingo/n02115641_4830.jpg  \n",
      "  inflating: best_breeds_redim/test/n02115641-dingo/n02115641_5178.jpg  \n",
      "  inflating: best_breeds_redim/test/n02115641-dingo/n02115641_5687.jpg  \n",
      "  inflating: best_breeds_redim/test/n02115641-dingo/n02115641_6228.jpg  \n",
      "  inflating: best_breeds_redim/test/n02115641-dingo/n02115641_6575.jpg  \n",
      "  inflating: best_breeds_redim/test/n02115641-dingo/n02115641_6747.jpg  \n",
      "  inflating: best_breeds_redim/test/n02115641-dingo/n02115641_7109.jpg  \n",
      "  inflating: best_breeds_redim/test/n02115641-dingo/n02115641_7222.jpg  \n",
      "  inflating: best_breeds_redim/test/n02115641-dingo/n02115641_7400.jpg  \n",
      "  inflating: best_breeds_redim/test/n02115641-dingo/n02115641_8474.jpg  \n",
      "  inflating: best_breeds_redim/test/n02115641-dingo/n02115641_9065.jpg  \n",
      "  inflating: best_breeds_redim/test/n02115641-dingo/n02115641_9067.jpg  \n",
      "  inflating: best_breeds_redim/test/n02115641-dingo/n02115641_9272.jpg  \n",
      "  inflating: best_breeds_redim/test/n02115641-dingo/n02115641_9302.jpg  \n",
      "  inflating: best_breeds_redim/test/n02115641-dingo/n02115641_9396.jpg  \n",
      "  inflating: best_breeds_redim/test/n02115641-dingo/n02115641_9686.jpg  \n",
      "  inflating: best_breeds_redim/test/n02115641-dingo/n02115641_9763.jpg  \n",
      "   creating: best_breeds_redim/test/n02115913-dhole/\n",
      "  inflating: best_breeds_redim/test/n02115913-dhole/n02115913_1224.jpg  \n",
      "  inflating: best_breeds_redim/test/n02115913-dhole/n02115913_1334.jpg  \n",
      "  inflating: best_breeds_redim/test/n02115913-dhole/n02115913_1449.jpg  \n",
      "  inflating: best_breeds_redim/test/n02115913-dhole/n02115913_1522.jpg  \n",
      "  inflating: best_breeds_redim/test/n02115913-dhole/n02115913_1663.jpg  \n",
      "  inflating: best_breeds_redim/test/n02115913-dhole/n02115913_1744.jpg  \n",
      "  inflating: best_breeds_redim/test/n02115913-dhole/n02115913_1963.jpg  \n",
      "  inflating: best_breeds_redim/test/n02115913-dhole/n02115913_219.jpg  \n",
      "  inflating: best_breeds_redim/test/n02115913-dhole/n02115913_2264.jpg  \n",
      "  inflating: best_breeds_redim/test/n02115913-dhole/n02115913_2320.jpg  \n",
      "  inflating: best_breeds_redim/test/n02115913-dhole/n02115913_250.jpg  \n",
      "  inflating: best_breeds_redim/test/n02115913-dhole/n02115913_253.jpg  \n",
      "  inflating: best_breeds_redim/test/n02115913-dhole/n02115913_2657.jpg  \n",
      "  inflating: best_breeds_redim/test/n02115913-dhole/n02115913_312.jpg  \n",
      "  inflating: best_breeds_redim/test/n02115913-dhole/n02115913_3473.jpg  \n",
      "  inflating: best_breeds_redim/test/n02115913-dhole/n02115913_359.jpg  \n",
      "  inflating: best_breeds_redim/test/n02115913-dhole/n02115913_38.jpg  \n",
      "  inflating: best_breeds_redim/test/n02115913-dhole/n02115913_3878.jpg  \n",
      "  inflating: best_breeds_redim/test/n02115913-dhole/n02115913_3991.jpg  \n",
      "  inflating: best_breeds_redim/test/n02115913-dhole/n02115913_4059.jpg  \n",
      "  inflating: best_breeds_redim/test/n02115913-dhole/n02115913_4144.jpg  \n",
      "  inflating: best_breeds_redim/test/n02115913-dhole/n02115913_44.jpg  \n",
      "  inflating: best_breeds_redim/test/n02115913-dhole/n02115913_593.jpg  \n",
      "  inflating: best_breeds_redim/test/n02115913-dhole/n02115913_676.jpg  \n",
      "  inflating: best_breeds_redim/test/n02115913-dhole/n02115913_907.jpg  \n",
      "   creating: best_breeds_redim/test/n02116738-African_hunting_dog/\n",
      "  inflating: best_breeds_redim/test/n02116738-African_hunting_dog/n02116738_10038.jpg  \n",
      "  inflating: best_breeds_redim/test/n02116738-African_hunting_dog/n02116738_10872.jpg  \n",
      "  inflating: best_breeds_redim/test/n02116738-African_hunting_dog/n02116738_1105.jpg  \n",
      "  inflating: best_breeds_redim/test/n02116738-African_hunting_dog/n02116738_1591.jpg  \n",
      "  inflating: best_breeds_redim/test/n02116738-African_hunting_dog/n02116738_1739.jpg  \n",
      "  inflating: best_breeds_redim/test/n02116738-African_hunting_dog/n02116738_1948.jpg  \n",
      "  inflating: best_breeds_redim/test/n02116738-African_hunting_dog/n02116738_2083.jpg  \n",
      "  inflating: best_breeds_redim/test/n02116738-African_hunting_dog/n02116738_2482.jpg  \n",
      "  inflating: best_breeds_redim/test/n02116738-African_hunting_dog/n02116738_2515.jpg  \n",
      "  inflating: best_breeds_redim/test/n02116738-African_hunting_dog/n02116738_2599.jpg  \n",
      "  inflating: best_breeds_redim/test/n02116738-African_hunting_dog/n02116738_291.jpg  \n",
      "  inflating: best_breeds_redim/test/n02116738-African_hunting_dog/n02116738_2988.jpg  \n",
      "  inflating: best_breeds_redim/test/n02116738-African_hunting_dog/n02116738_308.jpg  \n",
      "  inflating: best_breeds_redim/test/n02116738-African_hunting_dog/n02116738_3422.jpg  \n",
      "  inflating: best_breeds_redim/test/n02116738-African_hunting_dog/n02116738_3635.jpg  \n",
      "  inflating: best_breeds_redim/test/n02116738-African_hunting_dog/n02116738_3720.jpg  \n",
      "  inflating: best_breeds_redim/test/n02116738-African_hunting_dog/n02116738_4098.jpg  \n",
      "  inflating: best_breeds_redim/test/n02116738-African_hunting_dog/n02116738_4335.jpg  \n",
      "  inflating: best_breeds_redim/test/n02116738-African_hunting_dog/n02116738_4641.jpg  \n",
      "  inflating: best_breeds_redim/test/n02116738-African_hunting_dog/n02116738_4734.jpg  \n",
      "  inflating: best_breeds_redim/test/n02116738-African_hunting_dog/n02116738_4991.jpg  \n",
      "  inflating: best_breeds_redim/test/n02116738-African_hunting_dog/n02116738_5241.jpg  \n",
      "  inflating: best_breeds_redim/test/n02116738-African_hunting_dog/n02116738_5519.jpg  \n",
      "  inflating: best_breeds_redim/test/n02116738-African_hunting_dog/n02116738_5993.jpg  \n",
      "  inflating: best_breeds_redim/test/n02116738-African_hunting_dog/n02116738_6092.jpg  \n",
      "  inflating: best_breeds_redim/test/n02116738-African_hunting_dog/n02116738_6297.jpg  \n",
      "  inflating: best_breeds_redim/test/n02116738-African_hunting_dog/n02116738_6330.jpg  \n",
      "  inflating: best_breeds_redim/test/n02116738-African_hunting_dog/n02116738_662.jpg  \n",
      "  inflating: best_breeds_redim/test/n02116738-African_hunting_dog/n02116738_7060.jpg  \n",
      "  inflating: best_breeds_redim/test/n02116738-African_hunting_dog/n02116738_7506.jpg  \n",
      "  inflating: best_breeds_redim/test/n02116738-African_hunting_dog/n02116738_7537.jpg  \n",
      "  inflating: best_breeds_redim/test/n02116738-African_hunting_dog/n02116738_7580.jpg  \n",
      "  inflating: best_breeds_redim/test/n02116738-African_hunting_dog/n02116738_7590.jpg  \n",
      "  inflating: best_breeds_redim/test/n02116738-African_hunting_dog/n02116738_7753.jpg  \n",
      "  inflating: best_breeds_redim/test/n02116738-African_hunting_dog/n02116738_806.jpg  \n",
      "  inflating: best_breeds_redim/test/n02116738-African_hunting_dog/n02116738_8095.jpg  \n",
      "  inflating: best_breeds_redim/test/n02116738-African_hunting_dog/n02116738_8226.jpg  \n",
      "  inflating: best_breeds_redim/test/n02116738-African_hunting_dog/n02116738_8579.jpg  \n",
      "  inflating: best_breeds_redim/test/n02116738-African_hunting_dog/n02116738_8696.jpg  \n",
      "  inflating: best_breeds_redim/test/n02116738-African_hunting_dog/n02116738_8719.jpg  \n",
      "  inflating: best_breeds_redim/test/n02116738-African_hunting_dog/n02116738_8749.jpg  \n",
      "  inflating: best_breeds_redim/test/n02116738-African_hunting_dog/n02116738_8945.jpg  \n",
      "  inflating: best_breeds_redim/test/n02116738-African_hunting_dog/n02116738_9164.jpg  \n",
      "  inflating: best_breeds_redim/test/n02116738-African_hunting_dog/n02116738_9748.jpg  \n",
      "   creating: best_breeds_redim/train/\n",
      "   creating: best_breeds_redim/train/n02113799-standard_poodle/\n",
      "  inflating: best_breeds_redim/train/n02113799-standard_poodle/n02113799_1057.jpg  \n",
      "  inflating: best_breeds_redim/train/n02113799-standard_poodle/n02113799_1121.jpg  \n",
      "  inflating: best_breeds_redim/train/n02113799-standard_poodle/n02113799_1140.jpg  \n",
      "  inflating: best_breeds_redim/train/n02113799-standard_poodle/n02113799_1144.jpg  \n",
      "  inflating: best_breeds_redim/train/n02113799-standard_poodle/n02113799_1316.jpg  \n",
      "  inflating: best_breeds_redim/train/n02113799-standard_poodle/n02113799_1328.jpg  \n",
      "  inflating: best_breeds_redim/train/n02113799-standard_poodle/n02113799_1344.jpg  \n",
      "  inflating: best_breeds_redim/train/n02113799-standard_poodle/n02113799_1439.jpg  \n",
      "  inflating: best_breeds_redim/train/n02113799-standard_poodle/n02113799_1474.jpg  \n",
      "  inflating: best_breeds_redim/train/n02113799-standard_poodle/n02113799_153.jpg  \n",
      "  inflating: best_breeds_redim/train/n02113799-standard_poodle/n02113799_1532.jpg  \n",
      "  inflating: best_breeds_redim/train/n02113799-standard_poodle/n02113799_1536.jpg  \n",
      "  inflating: best_breeds_redim/train/n02113799-standard_poodle/n02113799_1537.jpg  \n",
      "  inflating: best_breeds_redim/train/n02113799-standard_poodle/n02113799_1539.jpg  \n",
      "  inflating: best_breeds_redim/train/n02113799-standard_poodle/n02113799_1568.jpg  \n",
      "  inflating: best_breeds_redim/train/n02113799-standard_poodle/n02113799_1572.jpg  \n",
      "  inflating: best_breeds_redim/train/n02113799-standard_poodle/n02113799_1646.jpg  \n",
      "  inflating: best_breeds_redim/train/n02113799-standard_poodle/n02113799_1696.jpg  \n",
      "  inflating: best_breeds_redim/train/n02113799-standard_poodle/n02113799_1727.jpg  \n",
      "  inflating: best_breeds_redim/train/n02113799-standard_poodle/n02113799_1743.jpg  \n",
      "  inflating: best_breeds_redim/train/n02113799-standard_poodle/n02113799_1793.jpg  \n",
      "  inflating: best_breeds_redim/train/n02113799-standard_poodle/n02113799_1864.jpg  \n",
      "  inflating: best_breeds_redim/train/n02113799-standard_poodle/n02113799_1906.jpg  \n",
      "  inflating: best_breeds_redim/train/n02113799-standard_poodle/n02113799_1922.jpg  \n",
      "  inflating: best_breeds_redim/train/n02113799-standard_poodle/n02113799_1962.jpg  \n",
      "  inflating: best_breeds_redim/train/n02113799-standard_poodle/n02113799_1976.jpg  \n",
      "  inflating: best_breeds_redim/train/n02113799-standard_poodle/n02113799_1980.jpg  \n",
      "  inflating: best_breeds_redim/train/n02113799-standard_poodle/n02113799_2017.jpg  \n",
      "  inflating: best_breeds_redim/train/n02113799-standard_poodle/n02113799_2037.jpg  \n",
      "  inflating: best_breeds_redim/train/n02113799-standard_poodle/n02113799_204.jpg  \n",
      "  inflating: best_breeds_redim/train/n02113799-standard_poodle/n02113799_2043.jpg  \n",
      "  inflating: best_breeds_redim/train/n02113799-standard_poodle/n02113799_2068.jpg  \n",
      "  inflating: best_breeds_redim/train/n02113799-standard_poodle/n02113799_2073.jpg  \n",
      "  inflating: best_breeds_redim/train/n02113799-standard_poodle/n02113799_2139.jpg  \n",
      "  inflating: best_breeds_redim/train/n02113799-standard_poodle/n02113799_2248.jpg  \n",
      "  inflating: best_breeds_redim/train/n02113799-standard_poodle/n02113799_2280.jpg  \n",
      "  inflating: best_breeds_redim/train/n02113799-standard_poodle/n02113799_2291.jpg  \n",
      "  inflating: best_breeds_redim/train/n02113799-standard_poodle/n02113799_2321.jpg  \n",
      "  inflating: best_breeds_redim/train/n02113799-standard_poodle/n02113799_2333.jpg  \n",
      "  inflating: best_breeds_redim/train/n02113799-standard_poodle/n02113799_2369.jpg  \n",
      "  inflating: best_breeds_redim/train/n02113799-standard_poodle/n02113799_2426.jpg  \n",
      "  inflating: best_breeds_redim/train/n02113799-standard_poodle/n02113799_2466.jpg  \n",
      "  inflating: best_breeds_redim/train/n02113799-standard_poodle/n02113799_2504.jpg  \n",
      "  inflating: best_breeds_redim/train/n02113799-standard_poodle/n02113799_253.jpg  \n",
      "  inflating: best_breeds_redim/train/n02113799-standard_poodle/n02113799_254.jpg  \n",
      "  inflating: best_breeds_redim/train/n02113799-standard_poodle/n02113799_2648.jpg  \n",
      "  inflating: best_breeds_redim/train/n02113799-standard_poodle/n02113799_2729.jpg  \n",
      "  inflating: best_breeds_redim/train/n02113799-standard_poodle/n02113799_2733.jpg  \n",
      "  inflating: best_breeds_redim/train/n02113799-standard_poodle/n02113799_2765.jpg  \n",
      "  inflating: best_breeds_redim/train/n02113799-standard_poodle/n02113799_2814.jpg  \n",
      "  inflating: best_breeds_redim/train/n02113799-standard_poodle/n02113799_283.jpg  \n",
      "  inflating: best_breeds_redim/train/n02113799-standard_poodle/n02113799_2932.jpg  \n",
      "  inflating: best_breeds_redim/train/n02113799-standard_poodle/n02113799_300.jpg  \n",
      "  inflating: best_breeds_redim/train/n02113799-standard_poodle/n02113799_3098.jpg  \n",
      "  inflating: best_breeds_redim/train/n02113799-standard_poodle/n02113799_3278.jpg  \n",
      "  inflating: best_breeds_redim/train/n02113799-standard_poodle/n02113799_341.jpg  \n",
      "  inflating: best_breeds_redim/train/n02113799-standard_poodle/n02113799_3695.jpg  \n",
      "  inflating: best_breeds_redim/train/n02113799-standard_poodle/n02113799_4143.jpg  \n",
      "  inflating: best_breeds_redim/train/n02113799-standard_poodle/n02113799_419.jpg  \n",
      "  inflating: best_breeds_redim/train/n02113799-standard_poodle/n02113799_4448.jpg  \n",
      "  inflating: best_breeds_redim/train/n02113799-standard_poodle/n02113799_4458.jpg  \n",
      "  inflating: best_breeds_redim/train/n02113799-standard_poodle/n02113799_4491.jpg  \n",
      "  inflating: best_breeds_redim/train/n02113799-standard_poodle/n02113799_4604.jpg  \n",
      "  inflating: best_breeds_redim/train/n02113799-standard_poodle/n02113799_4642.jpg  \n",
      "  inflating: best_breeds_redim/train/n02113799-standard_poodle/n02113799_4740.jpg  \n",
      "  inflating: best_breeds_redim/train/n02113799-standard_poodle/n02113799_489.jpg  \n",
      "  inflating: best_breeds_redim/train/n02113799-standard_poodle/n02113799_4904.jpg  \n",
      "  inflating: best_breeds_redim/train/n02113799-standard_poodle/n02113799_4946.jpg  \n",
      "  inflating: best_breeds_redim/train/n02113799-standard_poodle/n02113799_5023.jpg  \n",
      "  inflating: best_breeds_redim/train/n02113799-standard_poodle/n02113799_5227.jpg  \n",
      "  inflating: best_breeds_redim/train/n02113799-standard_poodle/n02113799_5372.jpg  \n",
      "  inflating: best_breeds_redim/train/n02113799-standard_poodle/n02113799_5704.jpg  \n",
      "  inflating: best_breeds_redim/train/n02113799-standard_poodle/n02113799_5766.jpg  \n",
      "  inflating: best_breeds_redim/train/n02113799-standard_poodle/n02113799_589.jpg  \n",
      "  inflating: best_breeds_redim/train/n02113799-standard_poodle/n02113799_5973.jpg  \n",
      "  inflating: best_breeds_redim/train/n02113799-standard_poodle/n02113799_5975.jpg  \n",
      "  inflating: best_breeds_redim/train/n02113799-standard_poodle/n02113799_5976.jpg  \n",
      "  inflating: best_breeds_redim/train/n02113799-standard_poodle/n02113799_6116.jpg  \n",
      "  inflating: best_breeds_redim/train/n02113799-standard_poodle/n02113799_6304.jpg  \n",
      "  inflating: best_breeds_redim/train/n02113799-standard_poodle/n02113799_6447.jpg  \n",
      "  inflating: best_breeds_redim/train/n02113799-standard_poodle/n02113799_6448.jpg  \n",
      "  inflating: best_breeds_redim/train/n02113799-standard_poodle/n02113799_6634.jpg  \n",
      "  inflating: best_breeds_redim/train/n02113799-standard_poodle/n02113799_6704.jpg  \n",
      "  inflating: best_breeds_redim/train/n02113799-standard_poodle/n02113799_6715.jpg  \n",
      "  inflating: best_breeds_redim/train/n02113799-standard_poodle/n02113799_6727.jpg  \n",
      "  inflating: best_breeds_redim/train/n02113799-standard_poodle/n02113799_6730.jpg  \n",
      "  inflating: best_breeds_redim/train/n02113799-standard_poodle/n02113799_6740.jpg  \n",
      "  inflating: best_breeds_redim/train/n02113799-standard_poodle/n02113799_6819.jpg  \n",
      "  inflating: best_breeds_redim/train/n02113799-standard_poodle/n02113799_6891.jpg  \n",
      "  inflating: best_breeds_redim/train/n02113799-standard_poodle/n02113799_6984.jpg  \n",
      "  inflating: best_breeds_redim/train/n02113799-standard_poodle/n02113799_7092.jpg  \n",
      "  inflating: best_breeds_redim/train/n02113799-standard_poodle/n02113799_7121.jpg  \n",
      "  inflating: best_breeds_redim/train/n02113799-standard_poodle/n02113799_7130.jpg  \n",
      "  inflating: best_breeds_redim/train/n02113799-standard_poodle/n02113799_7438.jpg  \n",
      "  inflating: best_breeds_redim/train/n02113799-standard_poodle/n02113799_7649.jpg  \n",
      "  inflating: best_breeds_redim/train/n02113799-standard_poodle/n02113799_7726.jpg  \n",
      "  inflating: best_breeds_redim/train/n02113799-standard_poodle/n02113799_848.jpg  \n",
      "  inflating: best_breeds_redim/train/n02113799-standard_poodle/n02113799_923.jpg  \n",
      "  inflating: best_breeds_redim/train/n02113799-standard_poodle/n02113799_936.jpg  \n",
      "  inflating: best_breeds_redim/train/n02113799-standard_poodle/n02113799_983.jpg  \n",
      "   creating: best_breeds_redim/train/n02113978-Mexican_hairless/\n",
      "  inflating: best_breeds_redim/train/n02113978-Mexican_hairless/n02113978_1006.jpg  \n",
      "  inflating: best_breeds_redim/train/n02113978-Mexican_hairless/n02113978_1069.jpg  \n",
      "  inflating: best_breeds_redim/train/n02113978-Mexican_hairless/n02113978_1088.jpg  \n",
      "  inflating: best_breeds_redim/train/n02113978-Mexican_hairless/n02113978_1189.jpg  \n",
      "  inflating: best_breeds_redim/train/n02113978-Mexican_hairless/n02113978_1238.jpg  \n",
      "  inflating: best_breeds_redim/train/n02113978-Mexican_hairless/n02113978_124.jpg  \n",
      "  inflating: best_breeds_redim/train/n02113978-Mexican_hairless/n02113978_1317.jpg  \n",
      "  inflating: best_breeds_redim/train/n02113978-Mexican_hairless/n02113978_1323.jpg  \n",
      "  inflating: best_breeds_redim/train/n02113978-Mexican_hairless/n02113978_1325.jpg  \n",
      "  inflating: best_breeds_redim/train/n02113978-Mexican_hairless/n02113978_1349.jpg  \n",
      "  inflating: best_breeds_redim/train/n02113978-Mexican_hairless/n02113978_1480.jpg  \n",
      "  inflating: best_breeds_redim/train/n02113978-Mexican_hairless/n02113978_153.jpg  \n",
      "  inflating: best_breeds_redim/train/n02113978-Mexican_hairless/n02113978_1535.jpg  \n",
      "  inflating: best_breeds_redim/train/n02113978-Mexican_hairless/n02113978_1551.jpg  \n",
      "  inflating: best_breeds_redim/train/n02113978-Mexican_hairless/n02113978_1632.jpg  \n",
      "  inflating: best_breeds_redim/train/n02113978-Mexican_hairless/n02113978_1653.jpg  \n",
      "  inflating: best_breeds_redim/train/n02113978-Mexican_hairless/n02113978_1746.jpg  \n",
      "  inflating: best_breeds_redim/train/n02113978-Mexican_hairless/n02113978_1773.jpg  \n",
      "  inflating: best_breeds_redim/train/n02113978-Mexican_hairless/n02113978_1787.jpg  \n",
      "  inflating: best_breeds_redim/train/n02113978-Mexican_hairless/n02113978_1868.jpg  \n",
      "  inflating: best_breeds_redim/train/n02113978-Mexican_hairless/n02113978_1891.jpg  \n",
      "  inflating: best_breeds_redim/train/n02113978-Mexican_hairless/n02113978_1939.jpg  \n",
      "  inflating: best_breeds_redim/train/n02113978-Mexican_hairless/n02113978_1957.jpg  \n",
      "  inflating: best_breeds_redim/train/n02113978-Mexican_hairless/n02113978_1970.jpg  \n",
      "  inflating: best_breeds_redim/train/n02113978-Mexican_hairless/n02113978_1983.jpg  \n",
      "  inflating: best_breeds_redim/train/n02113978-Mexican_hairless/n02113978_1999.jpg  \n",
      "  inflating: best_breeds_redim/train/n02113978-Mexican_hairless/n02113978_2054.jpg  \n",
      "  inflating: best_breeds_redim/train/n02113978-Mexican_hairless/n02113978_206.jpg  \n",
      "  inflating: best_breeds_redim/train/n02113978-Mexican_hairless/n02113978_2121.jpg  \n",
      "  inflating: best_breeds_redim/train/n02113978-Mexican_hairless/n02113978_2128.jpg  \n",
      "  inflating: best_breeds_redim/train/n02113978-Mexican_hairless/n02113978_2141.jpg  \n",
      "  inflating: best_breeds_redim/train/n02113978-Mexican_hairless/n02113978_2143.jpg  \n",
      "  inflating: best_breeds_redim/train/n02113978-Mexican_hairless/n02113978_2167.jpg  \n",
      "  inflating: best_breeds_redim/train/n02113978-Mexican_hairless/n02113978_2189.jpg  \n",
      "  inflating: best_breeds_redim/train/n02113978-Mexican_hairless/n02113978_2276.jpg  \n",
      "  inflating: best_breeds_redim/train/n02113978-Mexican_hairless/n02113978_2286.jpg  \n",
      "  inflating: best_breeds_redim/train/n02113978-Mexican_hairless/n02113978_2306.jpg  \n",
      "  inflating: best_breeds_redim/train/n02113978-Mexican_hairless/n02113978_2337.jpg  \n",
      "  inflating: best_breeds_redim/train/n02113978-Mexican_hairless/n02113978_2425.jpg  \n",
      "  inflating: best_breeds_redim/train/n02113978-Mexican_hairless/n02113978_2446.jpg  \n",
      "  inflating: best_breeds_redim/train/n02113978-Mexican_hairless/n02113978_2474.jpg  \n",
      "  inflating: best_breeds_redim/train/n02113978-Mexican_hairless/n02113978_2508.jpg  \n",
      "  inflating: best_breeds_redim/train/n02113978-Mexican_hairless/n02113978_2546.jpg  \n",
      "  inflating: best_breeds_redim/train/n02113978-Mexican_hairless/n02113978_2572.jpg  \n",
      "  inflating: best_breeds_redim/train/n02113978-Mexican_hairless/n02113978_2606.jpg  \n",
      "  inflating: best_breeds_redim/train/n02113978-Mexican_hairless/n02113978_2677.jpg  \n",
      "  inflating: best_breeds_redim/train/n02113978-Mexican_hairless/n02113978_2709.jpg  \n",
      "  inflating: best_breeds_redim/train/n02113978-Mexican_hairless/n02113978_272.jpg  \n",
      "  inflating: best_breeds_redim/train/n02113978-Mexican_hairless/n02113978_2727.jpg  \n",
      "  inflating: best_breeds_redim/train/n02113978-Mexican_hairless/n02113978_2787.jpg  \n",
      "  inflating: best_breeds_redim/train/n02113978-Mexican_hairless/n02113978_2793.jpg  \n",
      "  inflating: best_breeds_redim/train/n02113978-Mexican_hairless/n02113978_2798.jpg  \n",
      "  inflating: best_breeds_redim/train/n02113978-Mexican_hairless/n02113978_2888.jpg  \n",
      "  inflating: best_breeds_redim/train/n02113978-Mexican_hairless/n02113978_2938.jpg  \n",
      "  inflating: best_breeds_redim/train/n02113978-Mexican_hairless/n02113978_2979.jpg  \n",
      "  inflating: best_breeds_redim/train/n02113978-Mexican_hairless/n02113978_304.jpg  \n",
      "  inflating: best_breeds_redim/train/n02113978-Mexican_hairless/n02113978_3056.jpg  \n",
      "  inflating: best_breeds_redim/train/n02113978-Mexican_hairless/n02113978_3071.jpg  \n",
      "  inflating: best_breeds_redim/train/n02113978-Mexican_hairless/n02113978_3092.jpg  \n",
      "  inflating: best_breeds_redim/train/n02113978-Mexican_hairless/n02113978_3101.jpg  \n",
      "  inflating: best_breeds_redim/train/n02113978-Mexican_hairless/n02113978_3134.jpg  \n",
      "  inflating: best_breeds_redim/train/n02113978-Mexican_hairless/n02113978_3178.jpg  \n",
      "  inflating: best_breeds_redim/train/n02113978-Mexican_hairless/n02113978_3184.jpg  \n",
      "  inflating: best_breeds_redim/train/n02113978-Mexican_hairless/n02113978_3318.jpg  \n",
      "  inflating: best_breeds_redim/train/n02113978-Mexican_hairless/n02113978_3349.jpg  \n",
      "  inflating: best_breeds_redim/train/n02113978-Mexican_hairless/n02113978_3391.jpg  \n",
      "  inflating: best_breeds_redim/train/n02113978-Mexican_hairless/n02113978_3419.jpg  \n",
      "  inflating: best_breeds_redim/train/n02113978-Mexican_hairless/n02113978_3480.jpg  \n",
      "  inflating: best_breeds_redim/train/n02113978-Mexican_hairless/n02113978_356.jpg  \n",
      "  inflating: best_breeds_redim/train/n02113978-Mexican_hairless/n02113978_3655.jpg  \n",
      "  inflating: best_breeds_redim/train/n02113978-Mexican_hairless/n02113978_3670.jpg  \n",
      "  inflating: best_breeds_redim/train/n02113978-Mexican_hairless/n02113978_3722.jpg  \n",
      "  inflating: best_breeds_redim/train/n02113978-Mexican_hairless/n02113978_3723.jpg  \n",
      "  inflating: best_breeds_redim/train/n02113978-Mexican_hairless/n02113978_3727.jpg  \n",
      "  inflating: best_breeds_redim/train/n02113978-Mexican_hairless/n02113978_3734.jpg  \n",
      "  inflating: best_breeds_redim/train/n02113978-Mexican_hairless/n02113978_3743.jpg  \n",
      "  inflating: best_breeds_redim/train/n02113978-Mexican_hairless/n02113978_375.jpg  \n",
      "  inflating: best_breeds_redim/train/n02113978-Mexican_hairless/n02113978_3790.jpg  \n",
      "  inflating: best_breeds_redim/train/n02113978-Mexican_hairless/n02113978_3794.jpg  \n",
      "  inflating: best_breeds_redim/train/n02113978-Mexican_hairless/n02113978_3804.jpg  \n",
      "  inflating: best_breeds_redim/train/n02113978-Mexican_hairless/n02113978_3822.jpg  \n",
      "  inflating: best_breeds_redim/train/n02113978-Mexican_hairless/n02113978_3832.jpg  \n",
      "  inflating: best_breeds_redim/train/n02113978-Mexican_hairless/n02113978_3843.jpg  \n",
      "  inflating: best_breeds_redim/train/n02113978-Mexican_hairless/n02113978_386.jpg  \n",
      "  inflating: best_breeds_redim/train/n02113978-Mexican_hairless/n02113978_3866.jpg  \n",
      "  inflating: best_breeds_redim/train/n02113978-Mexican_hairless/n02113978_471.jpg  \n",
      "  inflating: best_breeds_redim/train/n02113978-Mexican_hairless/n02113978_530.jpg  \n",
      "  inflating: best_breeds_redim/train/n02113978-Mexican_hairless/n02113978_573.jpg  \n",
      "  inflating: best_breeds_redim/train/n02113978-Mexican_hairless/n02113978_593.jpg  \n",
      "  inflating: best_breeds_redim/train/n02113978-Mexican_hairless/n02113978_605.jpg  \n",
      "  inflating: best_breeds_redim/train/n02113978-Mexican_hairless/n02113978_697.jpg  \n",
      "  inflating: best_breeds_redim/train/n02113978-Mexican_hairless/n02113978_700.jpg  \n",
      "  inflating: best_breeds_redim/train/n02113978-Mexican_hairless/n02113978_737.jpg  \n",
      "  inflating: best_breeds_redim/train/n02113978-Mexican_hairless/n02113978_759.jpg  \n",
      "  inflating: best_breeds_redim/train/n02113978-Mexican_hairless/n02113978_838.jpg  \n",
      "  inflating: best_breeds_redim/train/n02113978-Mexican_hairless/n02113978_839.jpg  \n",
      "  inflating: best_breeds_redim/train/n02113978-Mexican_hairless/n02113978_857.jpg  \n",
      "  inflating: best_breeds_redim/train/n02113978-Mexican_hairless/n02113978_870.jpg  \n",
      "  inflating: best_breeds_redim/train/n02113978-Mexican_hairless/n02113978_961.jpg  \n",
      "  inflating: best_breeds_redim/train/n02113978-Mexican_hairless/n02113978_996.jpg  \n",
      "   creating: best_breeds_redim/train/n02115641-dingo/\n",
      "  inflating: best_breeds_redim/train/n02115641-dingo/n02115641_10021.jpg  \n",
      "  inflating: best_breeds_redim/train/n02115641-dingo/n02115641_10604.jpg  \n",
      "  inflating: best_breeds_redim/train/n02115641-dingo/n02115641_1145.jpg  \n",
      "  inflating: best_breeds_redim/train/n02115641-dingo/n02115641_11604.jpg  \n",
      "  inflating: best_breeds_redim/train/n02115641-dingo/n02115641_11668.jpg  \n",
      "  inflating: best_breeds_redim/train/n02115641-dingo/n02115641_11699.jpg  \n",
      "  inflating: best_breeds_redim/train/n02115641-dingo/n02115641_11717.jpg  \n",
      "  inflating: best_breeds_redim/train/n02115641-dingo/n02115641_12148.jpg  \n",
      "  inflating: best_breeds_redim/train/n02115641-dingo/n02115641_1228.jpg  \n",
      "  inflating: best_breeds_redim/train/n02115641-dingo/n02115641_12544.jpg  \n",
      "  inflating: best_breeds_redim/train/n02115641-dingo/n02115641_12709.jpg  \n",
      "  inflating: best_breeds_redim/train/n02115641-dingo/n02115641_12836.jpg  \n",
      "  inflating: best_breeds_redim/train/n02115641-dingo/n02115641_12922.jpg  \n",
      "  inflating: best_breeds_redim/train/n02115641-dingo/n02115641_12981.jpg  \n",
      "  inflating: best_breeds_redim/train/n02115641-dingo/n02115641_13269.jpg  \n",
      "  inflating: best_breeds_redim/train/n02115641-dingo/n02115641_1327.jpg  \n",
      "  inflating: best_breeds_redim/train/n02115641-dingo/n02115641_13295.jpg  \n",
      "  inflating: best_breeds_redim/train/n02115641-dingo/n02115641_13450.jpg  \n",
      "  inflating: best_breeds_redim/train/n02115641-dingo/n02115641_136.jpg  \n",
      "  inflating: best_breeds_redim/train/n02115641-dingo/n02115641_13605.jpg  \n",
      "  inflating: best_breeds_redim/train/n02115641-dingo/n02115641_13839.jpg  \n",
      "  inflating: best_breeds_redim/train/n02115641-dingo/n02115641_14084.jpg  \n",
      "  inflating: best_breeds_redim/train/n02115641-dingo/n02115641_14117.jpg  \n",
      "  inflating: best_breeds_redim/train/n02115641-dingo/n02115641_14495.jpg  \n",
      "  inflating: best_breeds_redim/train/n02115641-dingo/n02115641_1513.jpg  \n",
      "  inflating: best_breeds_redim/train/n02115641-dingo/n02115641_1560.jpg  \n",
      "  inflating: best_breeds_redim/train/n02115641-dingo/n02115641_1574.jpg  \n",
      "  inflating: best_breeds_redim/train/n02115641-dingo/n02115641_1674.jpg  \n",
      "  inflating: best_breeds_redim/train/n02115641-dingo/n02115641_1940.jpg  \n",
      "  inflating: best_breeds_redim/train/n02115641-dingo/n02115641_1969.jpg  \n",
      "  inflating: best_breeds_redim/train/n02115641-dingo/n02115641_2500.jpg  \n",
      "  inflating: best_breeds_redim/train/n02115641-dingo/n02115641_2513.jpg  \n",
      "  inflating: best_breeds_redim/train/n02115641-dingo/n02115641_266.jpg  \n",
      "  inflating: best_breeds_redim/train/n02115641-dingo/n02115641_2701.jpg  \n",
      "  inflating: best_breeds_redim/train/n02115641-dingo/n02115641_2788.jpg  \n",
      "  inflating: best_breeds_redim/train/n02115641-dingo/n02115641_2953.jpg  \n",
      "  inflating: best_breeds_redim/train/n02115641-dingo/n02115641_3110.jpg  \n",
      "  inflating: best_breeds_redim/train/n02115641-dingo/n02115641_3360.jpg  \n",
      "  inflating: best_breeds_redim/train/n02115641-dingo/n02115641_3494.jpg  \n",
      "  inflating: best_breeds_redim/train/n02115641-dingo/n02115641_3736.jpg  \n",
      "  inflating: best_breeds_redim/train/n02115641-dingo/n02115641_3862.jpg  \n",
      "  inflating: best_breeds_redim/train/n02115641-dingo/n02115641_3977.jpg  \n",
      "  inflating: best_breeds_redim/train/n02115641-dingo/n02115641_3995.jpg  \n",
      "  inflating: best_breeds_redim/train/n02115641-dingo/n02115641_4262.jpg  \n",
      "  inflating: best_breeds_redim/train/n02115641-dingo/n02115641_4265.jpg  \n",
      "  inflating: best_breeds_redim/train/n02115641-dingo/n02115641_4527.jpg  \n",
      "  inflating: best_breeds_redim/train/n02115641-dingo/n02115641_4607.jpg  \n",
      "  inflating: best_breeds_redim/train/n02115641-dingo/n02115641_4674.jpg  \n",
      "  inflating: best_breeds_redim/train/n02115641-dingo/n02115641_4737.jpg  \n",
      "  inflating: best_breeds_redim/train/n02115641-dingo/n02115641_4800.jpg  \n",
      "  inflating: best_breeds_redim/train/n02115641-dingo/n02115641_4851.jpg  \n",
      "  inflating: best_breeds_redim/train/n02115641-dingo/n02115641_4951.jpg  \n",
      "  inflating: best_breeds_redim/train/n02115641-dingo/n02115641_4970.jpg  \n",
      "  inflating: best_breeds_redim/train/n02115641-dingo/n02115641_5033.jpg  \n",
      "  inflating: best_breeds_redim/train/n02115641-dingo/n02115641_5320.jpg  \n",
      "  inflating: best_breeds_redim/train/n02115641-dingo/n02115641_5798.jpg  \n",
      "  inflating: best_breeds_redim/train/n02115641-dingo/n02115641_5815.jpg  \n",
      "  inflating: best_breeds_redim/train/n02115641-dingo/n02115641_5823.jpg  \n",
      "  inflating: best_breeds_redim/train/n02115641-dingo/n02115641_6183.jpg  \n",
      "  inflating: best_breeds_redim/train/n02115641-dingo/n02115641_6250.jpg  \n",
      "  inflating: best_breeds_redim/train/n02115641-dingo/n02115641_630.jpg  \n",
      "  inflating: best_breeds_redim/train/n02115641-dingo/n02115641_6380.jpg  \n",
      "  inflating: best_breeds_redim/train/n02115641-dingo/n02115641_6407.jpg  \n",
      "  inflating: best_breeds_redim/train/n02115641-dingo/n02115641_6490.jpg  \n",
      "  inflating: best_breeds_redim/train/n02115641-dingo/n02115641_6509.jpg  \n",
      "  inflating: best_breeds_redim/train/n02115641-dingo/n02115641_6577.jpg  \n"
     ]
    },
    {
     "name": "stdout",
     "output_type": "stream",
     "text": [
      "  inflating: best_breeds_redim/train/n02115641-dingo/n02115641_6579.jpg  \r\n",
      "  inflating: best_breeds_redim/train/n02115641-dingo/n02115641_6627.jpg  \r\n",
      "  inflating: best_breeds_redim/train/n02115641-dingo/n02115641_670.jpg  \r\n",
      "  inflating: best_breeds_redim/train/n02115641-dingo/n02115641_6707.jpg  \r\n",
      "  inflating: best_breeds_redim/train/n02115641-dingo/n02115641_6716.jpg  \r\n",
      "  inflating: best_breeds_redim/train/n02115641-dingo/n02115641_6772.jpg  \r\n",
      "  inflating: best_breeds_redim/train/n02115641-dingo/n02115641_6844.jpg  \r\n",
      "  inflating: best_breeds_redim/train/n02115641-dingo/n02115641_6974.jpg  \r\n",
      "  inflating: best_breeds_redim/train/n02115641-dingo/n02115641_7071.jpg  \r\n",
      "  inflating: best_breeds_redim/train/n02115641-dingo/n02115641_7106.jpg  \r\n",
      "  inflating: best_breeds_redim/train/n02115641-dingo/n02115641_7119.jpg  \r\n",
      "  inflating: best_breeds_redim/train/n02115641-dingo/n02115641_7158.jpg  \r\n",
      "  inflating: best_breeds_redim/train/n02115641-dingo/n02115641_7181.jpg  \r\n",
      "  inflating: best_breeds_redim/train/n02115641-dingo/n02115641_726.jpg  \r\n",
      "  inflating: best_breeds_redim/train/n02115641-dingo/n02115641_7355.jpg  \r\n",
      "  inflating: best_breeds_redim/train/n02115641-dingo/n02115641_7549.jpg  \r\n",
      "  inflating: best_breeds_redim/train/n02115641-dingo/n02115641_7679.jpg  \r\n",
      "  inflating: best_breeds_redim/train/n02115641-dingo/n02115641_7898.jpg  \r\n",
      "  inflating: best_breeds_redim/train/n02115641-dingo/n02115641_8150.jpg  \r\n",
      "  inflating: best_breeds_redim/train/n02115641-dingo/n02115641_8168.jpg  \r\n",
      "  inflating: best_breeds_redim/train/n02115641-dingo/n02115641_8463.jpg  \r\n",
      "  inflating: best_breeds_redim/train/n02115641-dingo/n02115641_8578.jpg  \r\n",
      "  inflating: best_breeds_redim/train/n02115641-dingo/n02115641_8682.jpg  \r\n",
      "  inflating: best_breeds_redim/train/n02115641-dingo/n02115641_8746.jpg  \r\n",
      "  inflating: best_breeds_redim/train/n02115641-dingo/n02115641_877.jpg  \r\n",
      "  inflating: best_breeds_redim/train/n02115641-dingo/n02115641_8798.jpg  \r\n",
      "  inflating: best_breeds_redim/train/n02115641-dingo/n02115641_8871.jpg  \r\n",
      "  inflating: best_breeds_redim/train/n02115641-dingo/n02115641_9110.jpg  \r\n",
      "  inflating: best_breeds_redim/train/n02115641-dingo/n02115641_925.jpg  \r\n",
      "  inflating: best_breeds_redim/train/n02115641-dingo/n02115641_9348.jpg  \r\n",
      "  inflating: best_breeds_redim/train/n02115641-dingo/n02115641_9455.jpg  \r\n",
      "  inflating: best_breeds_redim/train/n02115641-dingo/n02115641_9675.jpg  \r\n",
      "  inflating: best_breeds_redim/train/n02115641-dingo/n02115641_970.jpg  \r\n",
      "  inflating: best_breeds_redim/train/n02115641-dingo/n02115641_9977.jpg  \r\n",
      "   creating: best_breeds_redim/train/n02115913-dhole/\r\n",
      "  inflating: best_breeds_redim/train/n02115913-dhole/n02115913_1047.jpg  \r\n",
      "  inflating: best_breeds_redim/train/n02115913-dhole/n02115913_1060.jpg  \r\n",
      "  inflating: best_breeds_redim/train/n02115913-dhole/n02115913_1066.jpg  \r\n",
      "  inflating: best_breeds_redim/train/n02115913-dhole/n02115913_1067.jpg  \r\n",
      "  inflating: best_breeds_redim/train/n02115913-dhole/n02115913_1142.jpg  \r\n",
      "  inflating: best_breeds_redim/train/n02115913-dhole/n02115913_1188.jpg  \r\n",
      "  inflating: best_breeds_redim/train/n02115913-dhole/n02115913_1213.jpg  \r\n",
      "  inflating: best_breeds_redim/train/n02115913-dhole/n02115913_1244.jpg  \r\n",
      "  inflating: best_breeds_redim/train/n02115913-dhole/n02115913_1273.jpg  \r\n",
      "  inflating: best_breeds_redim/train/n02115913-dhole/n02115913_1288.jpg  \r\n",
      "  inflating: best_breeds_redim/train/n02115913-dhole/n02115913_1323.jpg  \r\n",
      "  inflating: best_breeds_redim/train/n02115913-dhole/n02115913_1332.jpg  \r\n",
      "  inflating: best_breeds_redim/train/n02115913-dhole/n02115913_1352.jpg  \r\n",
      "  inflating: best_breeds_redim/train/n02115913-dhole/n02115913_1552.jpg  \r\n",
      "  inflating: best_breeds_redim/train/n02115913-dhole/n02115913_1578.jpg  \r\n",
      "  inflating: best_breeds_redim/train/n02115913-dhole/n02115913_1622.jpg  \r\n",
      "  inflating: best_breeds_redim/train/n02115913-dhole/n02115913_1631.jpg  \r\n",
      "  inflating: best_breeds_redim/train/n02115913-dhole/n02115913_1682.jpg  \r\n",
      "  inflating: best_breeds_redim/train/n02115913-dhole/n02115913_1688.jpg  \r\n",
      "  inflating: best_breeds_redim/train/n02115913-dhole/n02115913_1742.jpg  \r\n",
      "  inflating: best_breeds_redim/train/n02115913-dhole/n02115913_1772.jpg  \r\n",
      "  inflating: best_breeds_redim/train/n02115913-dhole/n02115913_1830.jpg  \r\n",
      "  inflating: best_breeds_redim/train/n02115913-dhole/n02115913_1897.jpg  \r\n",
      "  inflating: best_breeds_redim/train/n02115913-dhole/n02115913_1979.jpg  \r\n",
      "  inflating: best_breeds_redim/train/n02115913-dhole/n02115913_2005.jpg  \r\n",
      "  inflating: best_breeds_redim/train/n02115913-dhole/n02115913_2014.jpg  \r\n",
      "  inflating: best_breeds_redim/train/n02115913-dhole/n02115913_2029.jpg  \r\n",
      "  inflating: best_breeds_redim/train/n02115913-dhole/n02115913_2138.jpg  \r\n",
      "  inflating: best_breeds_redim/train/n02115913-dhole/n02115913_2259.jpg  \r\n",
      "  inflating: best_breeds_redim/train/n02115913-dhole/n02115913_2338.jpg  \r\n",
      "  inflating: best_breeds_redim/train/n02115913-dhole/n02115913_2365.jpg  \r\n",
      "  inflating: best_breeds_redim/train/n02115913-dhole/n02115913_2412.jpg  \r\n",
      "  inflating: best_breeds_redim/train/n02115913-dhole/n02115913_2414.jpg  \r\n",
      "  inflating: best_breeds_redim/train/n02115913-dhole/n02115913_2480.jpg  \r\n",
      "  inflating: best_breeds_redim/train/n02115913-dhole/n02115913_25.jpg  \r\n",
      "  inflating: best_breeds_redim/train/n02115913-dhole/n02115913_2520.jpg  \r\n",
      "  inflating: best_breeds_redim/train/n02115913-dhole/n02115913_2542.jpg  \r\n",
      "  inflating: best_breeds_redim/train/n02115913-dhole/n02115913_2579.jpg  \r\n",
      "  inflating: best_breeds_redim/train/n02115913-dhole/n02115913_262.jpg  \r\n",
      "  inflating: best_breeds_redim/train/n02115913-dhole/n02115913_2841.jpg  \r\n",
      "  inflating: best_breeds_redim/train/n02115913-dhole/n02115913_2895.jpg  \r\n",
      "  inflating: best_breeds_redim/train/n02115913-dhole/n02115913_3010.jpg  \r\n",
      "  inflating: best_breeds_redim/train/n02115913-dhole/n02115913_3052.jpg  \r\n",
      "  inflating: best_breeds_redim/train/n02115913-dhole/n02115913_3107.jpg  \r\n",
      "  inflating: best_breeds_redim/train/n02115913-dhole/n02115913_311.jpg  \r\n",
      "  inflating: best_breeds_redim/train/n02115913-dhole/n02115913_3178.jpg  \r\n",
      "  inflating: best_breeds_redim/train/n02115913-dhole/n02115913_3229.jpg  \r\n",
      "  inflating: best_breeds_redim/train/n02115913-dhole/n02115913_3270.jpg  \r\n",
      "  inflating: best_breeds_redim/train/n02115913-dhole/n02115913_3278.jpg  \r\n",
      "  inflating: best_breeds_redim/train/n02115913-dhole/n02115913_3313.jpg  \r\n",
      "  inflating: best_breeds_redim/train/n02115913-dhole/n02115913_3465.jpg  \r\n",
      "  inflating: best_breeds_redim/train/n02115913-dhole/n02115913_3527.jpg  \r\n",
      "  inflating: best_breeds_redim/train/n02115913-dhole/n02115913_3529.jpg  \r\n",
      "  inflating: best_breeds_redim/train/n02115913-dhole/n02115913_3601.jpg  \r\n",
      "  inflating: best_breeds_redim/train/n02115913-dhole/n02115913_3647.jpg  \r\n",
      "  inflating: best_breeds_redim/train/n02115913-dhole/n02115913_368.jpg  \r\n",
      "  inflating: best_breeds_redim/train/n02115913-dhole/n02115913_3740.jpg  \r\n",
      "  inflating: best_breeds_redim/train/n02115913-dhole/n02115913_3753.jpg  \r\n",
      "  inflating: best_breeds_redim/train/n02115913-dhole/n02115913_3800.jpg  \r\n",
      "  inflating: best_breeds_redim/train/n02115913-dhole/n02115913_3842.jpg  \r\n",
      "  inflating: best_breeds_redim/train/n02115913-dhole/n02115913_3854.jpg  \r\n",
      "  inflating: best_breeds_redim/train/n02115913-dhole/n02115913_3863.jpg  \r\n",
      "  inflating: best_breeds_redim/train/n02115913-dhole/n02115913_3875.jpg  \r\n",
      "  inflating: best_breeds_redim/train/n02115913-dhole/n02115913_3918.jpg  \r\n",
      "  inflating: best_breeds_redim/train/n02115913-dhole/n02115913_3994.jpg  \r\n",
      "  inflating: best_breeds_redim/train/n02115913-dhole/n02115913_3998.jpg  \r\n",
      "  inflating: best_breeds_redim/train/n02115913-dhole/n02115913_4025.jpg  \r\n",
      "  inflating: best_breeds_redim/train/n02115913-dhole/n02115913_4031.jpg  \r\n",
      "  inflating: best_breeds_redim/train/n02115913-dhole/n02115913_4032.jpg  \r\n",
      "  inflating: best_breeds_redim/train/n02115913-dhole/n02115913_4047.jpg  \r\n",
      "  inflating: best_breeds_redim/train/n02115913-dhole/n02115913_4110.jpg  \r\n",
      "  inflating: best_breeds_redim/train/n02115913-dhole/n02115913_4117.jpg  \r\n",
      "  inflating: best_breeds_redim/train/n02115913-dhole/n02115913_4119.jpg  \r\n",
      "  inflating: best_breeds_redim/train/n02115913-dhole/n02115913_4128.jpg  \r\n",
      "  inflating: best_breeds_redim/train/n02115913-dhole/n02115913_4129.jpg  \r\n",
      "  inflating: best_breeds_redim/train/n02115913-dhole/n02115913_4163.jpg  \r\n",
      "  inflating: best_breeds_redim/train/n02115913-dhole/n02115913_4188.jpg  \r\n",
      "  inflating: best_breeds_redim/train/n02115913-dhole/n02115913_423.jpg  \r\n",
      "  inflating: best_breeds_redim/train/n02115913-dhole/n02115913_4266.jpg  \r\n",
      "  inflating: best_breeds_redim/train/n02115913-dhole/n02115913_4273.jpg  \r\n",
      "  inflating: best_breeds_redim/train/n02115913-dhole/n02115913_4275.jpg  \r\n",
      "  inflating: best_breeds_redim/train/n02115913-dhole/n02115913_4308.jpg  \r\n",
      "  inflating: best_breeds_redim/train/n02115913-dhole/n02115913_4313.jpg  \r\n",
      "  inflating: best_breeds_redim/train/n02115913-dhole/n02115913_4320.jpg  \r\n",
      "  inflating: best_breeds_redim/train/n02115913-dhole/n02115913_4336.jpg  \r\n",
      "  inflating: best_breeds_redim/train/n02115913-dhole/n02115913_4429.jpg  \r\n",
      "  inflating: best_breeds_redim/train/n02115913-dhole/n02115913_4542.jpg  \r\n",
      "  inflating: best_breeds_redim/train/n02115913-dhole/n02115913_520.jpg  \r\n",
      "  inflating: best_breeds_redim/train/n02115913-dhole/n02115913_539.jpg  \r\n",
      "  inflating: best_breeds_redim/train/n02115913-dhole/n02115913_5392.jpg  \r\n",
      "  inflating: best_breeds_redim/train/n02115913-dhole/n02115913_5418.jpg  \r\n",
      "  inflating: best_breeds_redim/train/n02115913-dhole/n02115913_5507.jpg  \r\n",
      "  inflating: best_breeds_redim/train/n02115913-dhole/n02115913_5593.jpg  \r\n",
      "  inflating: best_breeds_redim/train/n02115913-dhole/n02115913_564.jpg  \r\n",
      "  inflating: best_breeds_redim/train/n02115913-dhole/n02115913_612.jpg  \r\n",
      "  inflating: best_breeds_redim/train/n02115913-dhole/n02115913_678.jpg  \r\n",
      "  inflating: best_breeds_redim/train/n02115913-dhole/n02115913_739.jpg  \r\n",
      "  inflating: best_breeds_redim/train/n02115913-dhole/n02115913_90.jpg  \r\n",
      "  inflating: best_breeds_redim/train/n02115913-dhole/n02115913_915.jpg  \r\n",
      "  inflating: best_breeds_redim/train/n02115913-dhole/n02115913_92.jpg  \r\n",
      "   creating: best_breeds_redim/train/n02116738-African_hunting_dog/\r\n",
      "  inflating: best_breeds_redim/train/n02116738-African_hunting_dog/n02116738_10081.jpg  \r\n",
      "  inflating: best_breeds_redim/train/n02116738-African_hunting_dog/n02116738_10169.jpg  \r\n",
      "  inflating: best_breeds_redim/train/n02116738-African_hunting_dog/n02116738_10469.jpg  \r\n",
      "  inflating: best_breeds_redim/train/n02116738-African_hunting_dog/n02116738_10476.jpg  \r\n",
      "  inflating: best_breeds_redim/train/n02116738-African_hunting_dog/n02116738_10493.jpg  \r\n",
      "  inflating: best_breeds_redim/train/n02116738-African_hunting_dog/n02116738_10575.jpg  \r\n",
      "  inflating: best_breeds_redim/train/n02116738-African_hunting_dog/n02116738_10614.jpg  \r\n",
      "  inflating: best_breeds_redim/train/n02116738-African_hunting_dog/n02116738_10640.jpg  \r\n",
      "  inflating: best_breeds_redim/train/n02116738-African_hunting_dog/n02116738_1097.jpg  \r\n",
      "  inflating: best_breeds_redim/train/n02116738-African_hunting_dog/n02116738_1180.jpg  \r\n",
      "  inflating: best_breeds_redim/train/n02116738-African_hunting_dog/n02116738_1398.jpg  \r\n",
      "  inflating: best_breeds_redim/train/n02116738-African_hunting_dog/n02116738_1815.jpg  \r\n",
      "  inflating: best_breeds_redim/train/n02116738-African_hunting_dog/n02116738_1927.jpg  \r\n",
      "  inflating: best_breeds_redim/train/n02116738-African_hunting_dog/n02116738_2005.jpg  \r\n",
      "  inflating: best_breeds_redim/train/n02116738-African_hunting_dog/n02116738_204.jpg  \r\n",
      "  inflating: best_breeds_redim/train/n02116738-African_hunting_dog/n02116738_219.jpg  \r\n",
      "  inflating: best_breeds_redim/train/n02116738-African_hunting_dog/n02116738_2192.jpg  \r\n",
      "  inflating: best_breeds_redim/train/n02116738-African_hunting_dog/n02116738_2327.jpg  \r\n",
      "  inflating: best_breeds_redim/train/n02116738-African_hunting_dog/n02116738_2329.jpg  \r\n",
      "  inflating: best_breeds_redim/train/n02116738-African_hunting_dog/n02116738_233.jpg  \r\n",
      "  inflating: best_breeds_redim/train/n02116738-African_hunting_dog/n02116738_2344.jpg  \r\n",
      "  inflating: best_breeds_redim/train/n02116738-African_hunting_dog/n02116738_2435.jpg  \r\n",
      "  inflating: best_breeds_redim/train/n02116738-African_hunting_dog/n02116738_246.jpg  \r\n",
      "  inflating: best_breeds_redim/train/n02116738-African_hunting_dog/n02116738_2503.jpg  \r\n",
      "  inflating: best_breeds_redim/train/n02116738-African_hunting_dog/n02116738_2600.jpg  \r\n",
      "  inflating: best_breeds_redim/train/n02116738-African_hunting_dog/n02116738_2614.jpg  \r\n",
      "  inflating: best_breeds_redim/train/n02116738-African_hunting_dog/n02116738_2675.jpg  \r\n",
      "  inflating: best_breeds_redim/train/n02116738-African_hunting_dog/n02116738_2757.jpg  \r\n",
      "  inflating: best_breeds_redim/train/n02116738-African_hunting_dog/n02116738_2802.jpg  \r\n",
      "  inflating: best_breeds_redim/train/n02116738-African_hunting_dog/n02116738_288.jpg  \r\n",
      "  inflating: best_breeds_redim/train/n02116738-African_hunting_dog/n02116738_328.jpg  \r\n",
      "  inflating: best_breeds_redim/train/n02116738-African_hunting_dog/n02116738_3365.jpg  \r\n",
      "  inflating: best_breeds_redim/train/n02116738-African_hunting_dog/n02116738_3819.jpg  \r\n",
      "  inflating: best_breeds_redim/train/n02116738-African_hunting_dog/n02116738_4019.jpg  \r\n",
      "  inflating: best_breeds_redim/train/n02116738-African_hunting_dog/n02116738_4102.jpg  \r\n",
      "  inflating: best_breeds_redim/train/n02116738-African_hunting_dog/n02116738_4115.jpg  \r\n",
      "  inflating: best_breeds_redim/train/n02116738-African_hunting_dog/n02116738_431.jpg  \r\n",
      "  inflating: best_breeds_redim/train/n02116738-African_hunting_dog/n02116738_4323.jpg  \r\n",
      "  inflating: best_breeds_redim/train/n02116738-African_hunting_dog/n02116738_4367.jpg  \r\n",
      "  inflating: best_breeds_redim/train/n02116738-African_hunting_dog/n02116738_4382.jpg  \r\n",
      "  inflating: best_breeds_redim/train/n02116738-African_hunting_dog/n02116738_4461.jpg  \r\n",
      "  inflating: best_breeds_redim/train/n02116738-African_hunting_dog/n02116738_4732.jpg  \r\n",
      "  inflating: best_breeds_redim/train/n02116738-African_hunting_dog/n02116738_4742.jpg  \r\n",
      "  inflating: best_breeds_redim/train/n02116738-African_hunting_dog/n02116738_4758.jpg  \r\n",
      "  inflating: best_breeds_redim/train/n02116738-African_hunting_dog/n02116738_4796.jpg  \r\n",
      "  inflating: best_breeds_redim/train/n02116738-African_hunting_dog/n02116738_5068.jpg  \r\n",
      "  inflating: best_breeds_redim/train/n02116738-African_hunting_dog/n02116738_5312.jpg  \r\n",
      "  inflating: best_breeds_redim/train/n02116738-African_hunting_dog/n02116738_5635.jpg  \r\n",
      "  inflating: best_breeds_redim/train/n02116738-African_hunting_dog/n02116738_5661.jpg  \r\n",
      "  inflating: best_breeds_redim/train/n02116738-African_hunting_dog/n02116738_5697.jpg  \r\n",
      "  inflating: best_breeds_redim/train/n02116738-African_hunting_dog/n02116738_5932.jpg  \r\n",
      "  inflating: best_breeds_redim/train/n02116738-African_hunting_dog/n02116738_5936.jpg  \r\n",
      "  inflating: best_breeds_redim/train/n02116738-African_hunting_dog/n02116738_5953.jpg  \r\n",
      "  inflating: best_breeds_redim/train/n02116738-African_hunting_dog/n02116738_5956.jpg  \r\n",
      "  inflating: best_breeds_redim/train/n02116738-African_hunting_dog/n02116738_6038.jpg  \r\n",
      "  inflating: best_breeds_redim/train/n02116738-African_hunting_dog/n02116738_6044.jpg  \r\n",
      "  inflating: best_breeds_redim/train/n02116738-African_hunting_dog/n02116738_6076.jpg  \r\n",
      "  inflating: best_breeds_redim/train/n02116738-African_hunting_dog/n02116738_6117.jpg  \r\n",
      "  inflating: best_breeds_redim/train/n02116738-African_hunting_dog/n02116738_6283.jpg  \r\n",
      "  inflating: best_breeds_redim/train/n02116738-African_hunting_dog/n02116738_634.jpg  \r\n",
      "  inflating: best_breeds_redim/train/n02116738-African_hunting_dog/n02116738_6563.jpg  \r\n",
      "  inflating: best_breeds_redim/train/n02116738-African_hunting_dog/n02116738_6746.jpg  \r\n",
      "  inflating: best_breeds_redim/train/n02116738-African_hunting_dog/n02116738_6748.jpg  \r\n",
      "  inflating: best_breeds_redim/train/n02116738-African_hunting_dog/n02116738_6754.jpg  \r\n",
      "  inflating: best_breeds_redim/train/n02116738-African_hunting_dog/n02116738_678.jpg  \r\n",
      "  inflating: best_breeds_redim/train/n02116738-African_hunting_dog/n02116738_6790.jpg  \r\n",
      "  inflating: best_breeds_redim/train/n02116738-African_hunting_dog/n02116738_6813.jpg  \r\n",
      "  inflating: best_breeds_redim/train/n02116738-African_hunting_dog/n02116738_684.jpg  \r\n",
      "  inflating: best_breeds_redim/train/n02116738-African_hunting_dog/n02116738_7008.jpg  \r\n",
      "  inflating: best_breeds_redim/train/n02116738-African_hunting_dog/n02116738_7026.jpg  \r\n",
      "  inflating: best_breeds_redim/train/n02116738-African_hunting_dog/n02116738_7105.jpg  \r\n",
      "  inflating: best_breeds_redim/train/n02116738-African_hunting_dog/n02116738_7122.jpg  \r\n",
      "  inflating: best_breeds_redim/train/n02116738-African_hunting_dog/n02116738_7170.jpg  \r\n",
      "  inflating: best_breeds_redim/train/n02116738-African_hunting_dog/n02116738_7340.jpg  \r\n",
      "  inflating: best_breeds_redim/train/n02116738-African_hunting_dog/n02116738_7578.jpg  \r\n",
      "  inflating: best_breeds_redim/train/n02116738-African_hunting_dog/n02116738_7601.jpg  \r\n",
      "  inflating: best_breeds_redim/train/n02116738-African_hunting_dog/n02116738_7657.jpg  \r\n",
      "  inflating: best_breeds_redim/train/n02116738-African_hunting_dog/n02116738_7988.jpg  \r\n",
      "  inflating: best_breeds_redim/train/n02116738-African_hunting_dog/n02116738_8037.jpg  \r\n",
      "  inflating: best_breeds_redim/train/n02116738-African_hunting_dog/n02116738_8341.jpg  \r\n",
      "  inflating: best_breeds_redim/train/n02116738-African_hunting_dog/n02116738_8403.jpg  \r\n",
      "  inflating: best_breeds_redim/train/n02116738-African_hunting_dog/n02116738_8489.jpg  \r\n",
      "  inflating: best_breeds_redim/train/n02116738-African_hunting_dog/n02116738_849.jpg  \r\n",
      "  inflating: best_breeds_redim/train/n02116738-African_hunting_dog/n02116738_8512.jpg  \r\n",
      "  inflating: best_breeds_redim/train/n02116738-African_hunting_dog/n02116738_8653.jpg  \r\n",
      "  inflating: best_breeds_redim/train/n02116738-African_hunting_dog/n02116738_8662.jpg  \r\n",
      "  inflating: best_breeds_redim/train/n02116738-African_hunting_dog/n02116738_8669.jpg  \r\n",
      "  inflating: best_breeds_redim/train/n02116738-African_hunting_dog/n02116738_8734.jpg  \r\n",
      "  inflating: best_breeds_redim/train/n02116738-African_hunting_dog/n02116738_8738.jpg  \r\n",
      "  inflating: best_breeds_redim/train/n02116738-African_hunting_dog/n02116738_9232.jpg  \r\n",
      "  inflating: best_breeds_redim/train/n02116738-African_hunting_dog/n02116738_9282.jpg  \r\n",
      "  inflating: best_breeds_redim/train/n02116738-African_hunting_dog/n02116738_9333.jpg  \r\n",
      "  inflating: best_breeds_redim/train/n02116738-African_hunting_dog/n02116738_9603.jpg  \r\n",
      "  inflating: best_breeds_redim/train/n02116738-African_hunting_dog/n02116738_9762.jpg  \r\n",
      "  inflating: best_breeds_redim/train/n02116738-African_hunting_dog/n02116738_9769.jpg  \r\n",
      "  inflating: best_breeds_redim/train/n02116738-African_hunting_dog/n02116738_9798.jpg  \r\n",
      "  inflating: best_breeds_redim/train/n02116738-African_hunting_dog/n02116738_9818.jpg  \r\n",
      "  inflating: best_breeds_redim/train/n02116738-African_hunting_dog/n02116738_9829.jpg  \r\n",
      "  inflating: best_breeds_redim/train/n02116738-African_hunting_dog/n02116738_9844.jpg  \r\n",
      "  inflating: best_breeds_redim/train/n02116738-African_hunting_dog/n02116738_9924.jpg  \r\n",
      "   creating: best_breeds_redim/valid/\r\n",
      "   creating: best_breeds_redim/valid/n02113799-standard_poodle/\r\n",
      "  inflating: best_breeds_redim/valid/n02113799-standard_poodle/n02113799_1155.jpg  \r\n",
      "  inflating: best_breeds_redim/valid/n02113799-standard_poodle/n02113799_1207.jpg  \r\n",
      "  inflating: best_breeds_redim/valid/n02113799-standard_poodle/n02113799_1444.jpg  \r\n",
      "  inflating: best_breeds_redim/valid/n02113799-standard_poodle/n02113799_156.jpg  \r\n",
      "  inflating: best_breeds_redim/valid/n02113799-standard_poodle/n02113799_1798.jpg  \r\n",
      "  inflating: best_breeds_redim/valid/n02113799-standard_poodle/n02113799_2187.jpg  \r\n",
      "  inflating: best_breeds_redim/valid/n02113799-standard_poodle/n02113799_2325.jpg  \r\n",
      "  inflating: best_breeds_redim/valid/n02113799-standard_poodle/n02113799_2478.jpg  \r\n",
      "  inflating: best_breeds_redim/valid/n02113799-standard_poodle/n02113799_2650.jpg  \r\n",
      "  inflating: best_breeds_redim/valid/n02113799-standard_poodle/n02113799_2746.jpg  \r\n",
      "  inflating: best_breeds_redim/valid/n02113799-standard_poodle/n02113799_3054.jpg  \r\n",
      "  inflating: best_breeds_redim/valid/n02113799-standard_poodle/n02113799_311.jpg  \r\n",
      "  inflating: best_breeds_redim/valid/n02113799-standard_poodle/n02113799_3356.jpg  \r\n",
      "  inflating: best_breeds_redim/valid/n02113799-standard_poodle/n02113799_3945.jpg  \r\n",
      "  inflating: best_breeds_redim/valid/n02113799-standard_poodle/n02113799_4046.jpg  \r\n",
      "  inflating: best_breeds_redim/valid/n02113799-standard_poodle/n02113799_4454.jpg  \r\n",
      "  inflating: best_breeds_redim/valid/n02113799-standard_poodle/n02113799_448.jpg  \r\n",
      "  inflating: best_breeds_redim/valid/n02113799-standard_poodle/n02113799_4557.jpg  \r\n",
      "  inflating: best_breeds_redim/valid/n02113799-standard_poodle/n02113799_5009.jpg  \r\n",
      "  inflating: best_breeds_redim/valid/n02113799-standard_poodle/n02113799_5157.jpg  \r\n",
      "  inflating: best_breeds_redim/valid/n02113799-standard_poodle/n02113799_5267.jpg  \r\n",
      "  inflating: best_breeds_redim/valid/n02113799-standard_poodle/n02113799_5514.jpg  \r\n",
      "  inflating: best_breeds_redim/valid/n02113799-standard_poodle/n02113799_5720.jpg  \r\n",
      "  inflating: best_breeds_redim/valid/n02113799-standard_poodle/n02113799_6045.jpg  \r\n",
      "  inflating: best_breeds_redim/valid/n02113799-standard_poodle/n02113799_639.jpg  \r\n",
      "   creating: best_breeds_redim/valid/n02113978-Mexican_hairless/\r\n",
      "  inflating: best_breeds_redim/valid/n02113978-Mexican_hairless/n02113978_1030.jpg  \r\n",
      "  inflating: best_breeds_redim/valid/n02113978-Mexican_hairless/n02113978_118.jpg  \r\n",
      "  inflating: best_breeds_redim/valid/n02113978-Mexican_hairless/n02113978_1391.jpg  \r\n",
      "  inflating: best_breeds_redim/valid/n02113978-Mexican_hairless/n02113978_147.jpg  \r\n",
      "  inflating: best_breeds_redim/valid/n02113978-Mexican_hairless/n02113978_1482.jpg  \r\n",
      "  inflating: best_breeds_redim/valid/n02113978-Mexican_hairless/n02113978_1620.jpg  \r\n",
      "  inflating: best_breeds_redim/valid/n02113978-Mexican_hairless/n02113978_1823.jpg  \r\n",
      "  inflating: best_breeds_redim/valid/n02113978-Mexican_hairless/n02113978_1854.jpg  \r\n",
      "  inflating: best_breeds_redim/valid/n02113978-Mexican_hairless/n02113978_1924.jpg  \r\n",
      "  inflating: best_breeds_redim/valid/n02113978-Mexican_hairless/n02113978_1956.jpg  \r\n",
      "  inflating: best_breeds_redim/valid/n02113978-Mexican_hairless/n02113978_2003.jpg  \r\n",
      "  inflating: best_breeds_redim/valid/n02113978-Mexican_hairless/n02113978_2145.jpg  \r\n",
      "  inflating: best_breeds_redim/valid/n02113978-Mexican_hairless/n02113978_2261.jpg  \r\n",
      "  inflating: best_breeds_redim/valid/n02113978-Mexican_hairless/n02113978_2552.jpg  \r\n",
      "  inflating: best_breeds_redim/valid/n02113978-Mexican_hairless/n02113978_2707.jpg  \r\n",
      "  inflating: best_breeds_redim/valid/n02113978-Mexican_hairless/n02113978_2804.jpg  \r\n",
      "  inflating: best_breeds_redim/valid/n02113978-Mexican_hairless/n02113978_2996.jpg  \r\n",
      "  inflating: best_breeds_redim/valid/n02113978-Mexican_hairless/n02113978_3197.jpg  \r\n",
      "  inflating: best_breeds_redim/valid/n02113978-Mexican_hairless/n02113978_3249.jpg  \r\n",
      "  inflating: best_breeds_redim/valid/n02113978-Mexican_hairless/n02113978_341.jpg  \r\n",
      "  inflating: best_breeds_redim/valid/n02113978-Mexican_hairless/n02113978_3504.jpg  \r\n",
      "  inflating: best_breeds_redim/valid/n02113978-Mexican_hairless/n02113978_3714.jpg  \r\n",
      "  inflating: best_breeds_redim/valid/n02113978-Mexican_hairless/n02113978_3823.jpg  \r\n",
      "  inflating: best_breeds_redim/valid/n02113978-Mexican_hairless/n02113978_3921.jpg  \r\n",
      "  inflating: best_breeds_redim/valid/n02113978-Mexican_hairless/n02113978_468.jpg  \r\n",
      "   creating: best_breeds_redim/valid/n02115641-dingo/\r\n",
      "  inflating: best_breeds_redim/valid/n02115641-dingo/n02115641_10261.jpg  \r\n",
      "  inflating: best_breeds_redim/valid/n02115641-dingo/n02115641_10395.jpg  \r\n",
      "  inflating: best_breeds_redim/valid/n02115641-dingo/n02115641_10561.jpg  \r\n",
      "  inflating: best_breeds_redim/valid/n02115641-dingo/n02115641_10992.jpg  \r\n",
      "  inflating: best_breeds_redim/valid/n02115641-dingo/n02115641_1154.jpg  \r\n",
      "  inflating: best_breeds_redim/valid/n02115641-dingo/n02115641_12541.jpg  \r\n",
      "  inflating: best_breeds_redim/valid/n02115641-dingo/n02115641_13237.jpg  \r\n",
      "  inflating: best_breeds_redim/valid/n02115641-dingo/n02115641_13565.jpg  \r\n",
      "  inflating: best_breeds_redim/valid/n02115641-dingo/n02115641_2041.jpg  \r\n",
      "  inflating: best_breeds_redim/valid/n02115641-dingo/n02115641_2424.jpg  \r\n",
      "  inflating: best_breeds_redim/valid/n02115641-dingo/n02115641_2636.jpg  \r\n",
      "  inflating: best_breeds_redim/valid/n02115641-dingo/n02115641_2871.jpg  \r\n",
      "  inflating: best_breeds_redim/valid/n02115641-dingo/n02115641_4563.jpg  \r\n",
      "  inflating: best_breeds_redim/valid/n02115641-dingo/n02115641_4677.jpg  \r\n",
      "  inflating: best_breeds_redim/valid/n02115641-dingo/n02115641_4818.jpg  \r\n",
      "  inflating: best_breeds_redim/valid/n02115641-dingo/n02115641_504.jpg  \r\n",
      "  inflating: best_breeds_redim/valid/n02115641-dingo/n02115641_5492.jpg  \r\n",
      "  inflating: best_breeds_redim/valid/n02115641-dingo/n02115641_592.jpg  \r\n",
      "  inflating: best_breeds_redim/valid/n02115641-dingo/n02115641_6309.jpg  \r\n",
      "  inflating: best_breeds_redim/valid/n02115641-dingo/n02115641_6639.jpg  \r\n",
      "  inflating: best_breeds_redim/valid/n02115641-dingo/n02115641_7013.jpg  \r\n",
      "  inflating: best_breeds_redim/valid/n02115641-dingo/n02115641_7203.jpg  \r\n",
      "  inflating: best_breeds_redim/valid/n02115641-dingo/n02115641_7237.jpg  \r\n",
      "  inflating: best_breeds_redim/valid/n02115641-dingo/n02115641_7620.jpg  \r\n",
      "  inflating: best_breeds_redim/valid/n02115641-dingo/n02115641_8492.jpg  \r\n",
      "   creating: best_breeds_redim/valid/n02115913-dhole/\r\n",
      "  inflating: best_breeds_redim/valid/n02115913-dhole/n02115913_1010.jpg  \r\n",
      "  inflating: best_breeds_redim/valid/n02115913-dhole/n02115913_1233.jpg  \r\n",
      "  inflating: best_breeds_redim/valid/n02115913-dhole/n02115913_139.jpg  \r\n",
      "  inflating: best_breeds_redim/valid/n02115913-dhole/n02115913_1493.jpg  \r\n",
      "  inflating: best_breeds_redim/valid/n02115913-dhole/n02115913_1637.jpg  \r\n",
      "  inflating: best_breeds_redim/valid/n02115913-dhole/n02115913_1677.jpg  \r\n",
      "  inflating: best_breeds_redim/valid/n02115913-dhole/n02115913_1796.jpg  \r\n",
      "  inflating: best_breeds_redim/valid/n02115913-dhole/n02115913_2044.jpg  \r\n",
      "  inflating: best_breeds_redim/valid/n02115913-dhole/n02115913_2253.jpg  \r\n",
      "  inflating: best_breeds_redim/valid/n02115913-dhole/n02115913_2300.jpg  \r\n",
      "  inflating: best_breeds_redim/valid/n02115913-dhole/n02115913_2325.jpg  \r\n",
      "  inflating: best_breeds_redim/valid/n02115913-dhole/n02115913_2524.jpg  \r\n",
      "  inflating: best_breeds_redim/valid/n02115913-dhole/n02115913_257.jpg  \r\n",
      "  inflating: best_breeds_redim/valid/n02115913-dhole/n02115913_3115.jpg  \r\n",
      "  inflating: best_breeds_redim/valid/n02115913-dhole/n02115913_3196.jpg  \r\n",
      "  inflating: best_breeds_redim/valid/n02115913-dhole/n02115913_3480.jpg  \r\n",
      "  inflating: best_breeds_redim/valid/n02115913-dhole/n02115913_3743.jpg  \r\n",
      "  inflating: best_breeds_redim/valid/n02115913-dhole/n02115913_3850.jpg  \r\n",
      "  inflating: best_breeds_redim/valid/n02115913-dhole/n02115913_3902.jpg  \r\n",
      "  inflating: best_breeds_redim/valid/n02115913-dhole/n02115913_4055.jpg  \r\n",
      "  inflating: best_breeds_redim/valid/n02115913-dhole/n02115913_4082.jpg  \r\n",
      "  inflating: best_breeds_redim/valid/n02115913-dhole/n02115913_4179.jpg  \r\n",
      "  inflating: best_breeds_redim/valid/n02115913-dhole/n02115913_5469.jpg  \r\n",
      "  inflating: best_breeds_redim/valid/n02115913-dhole/n02115913_614.jpg  \r\n",
      "  inflating: best_breeds_redim/valid/n02115913-dhole/n02115913_750.jpg  \r\n",
      "   creating: best_breeds_redim/valid/n02116738-African_hunting_dog/\r\n",
      "  inflating: best_breeds_redim/valid/n02116738-African_hunting_dog/n02116738_10024.jpg  \r\n",
      "  inflating: best_breeds_redim/valid/n02116738-African_hunting_dog/n02116738_10215.jpg  \r\n",
      "  inflating: best_breeds_redim/valid/n02116738-African_hunting_dog/n02116738_10895.jpg  \r\n",
      "  inflating: best_breeds_redim/valid/n02116738-African_hunting_dog/n02116738_124.jpg  \r\n",
      "  inflating: best_breeds_redim/valid/n02116738-African_hunting_dog/n02116738_1627.jpg  \r\n",
      "  inflating: best_breeds_redim/valid/n02116738-African_hunting_dog/n02116738_1849.jpg  \r\n",
      "  inflating: best_breeds_redim/valid/n02116738-African_hunting_dog/n02116738_2020.jpg  \r\n",
      "  inflating: best_breeds_redim/valid/n02116738-African_hunting_dog/n02116738_2139.jpg  \r\n",
      "  inflating: best_breeds_redim/valid/n02116738-African_hunting_dog/n02116738_2514.jpg  \r\n",
      "  inflating: best_breeds_redim/valid/n02116738-African_hunting_dog/n02116738_2557.jpg  \r\n",
      "  inflating: best_breeds_redim/valid/n02116738-African_hunting_dog/n02116738_2770.jpg  \r\n",
      "  inflating: best_breeds_redim/valid/n02116738-African_hunting_dog/n02116738_2942.jpg  \r\n",
      "  inflating: best_breeds_redim/valid/n02116738-African_hunting_dog/n02116738_3024.jpg  \r\n",
      "  inflating: best_breeds_redim/valid/n02116738-African_hunting_dog/n02116738_3160.jpg  \r\n",
      "  inflating: best_breeds_redim/valid/n02116738-African_hunting_dog/n02116738_3589.jpg  \r\n",
      "  inflating: best_breeds_redim/valid/n02116738-African_hunting_dog/n02116738_3692.jpg  \r\n",
      "  inflating: best_breeds_redim/valid/n02116738-African_hunting_dog/n02116738_385.jpg  \r\n"
     ]
    },
    {
     "name": "stdout",
     "output_type": "stream",
     "text": [
      "  inflating: best_breeds_redim/valid/n02116738-African_hunting_dog/n02116738_4138.jpg  \r\n",
      "  inflating: best_breeds_redim/valid/n02116738-African_hunting_dog/n02116738_4508.jpg  \r\n",
      "  inflating: best_breeds_redim/valid/n02116738-African_hunting_dog/n02116738_4720.jpg  \r\n",
      "  inflating: best_breeds_redim/valid/n02116738-African_hunting_dog/n02116738_4834.jpg  \r\n",
      "  inflating: best_breeds_redim/valid/n02116738-African_hunting_dog/n02116738_500.jpg  \r\n",
      "  inflating: best_breeds_redim/valid/n02116738-African_hunting_dog/n02116738_5338.jpg  \r\n",
      "  inflating: best_breeds_redim/valid/n02116738-African_hunting_dog/n02116738_5683.jpg  \r\n",
      "  inflating: best_breeds_redim/valid/n02116738-African_hunting_dog/n02116738_607.jpg  \r\n"
     ]
    }
   ],
   "source": [
    "!unzip -o best_breeds_redim.zip"
   ]
  },
  {
   "cell_type": "code",
   "execution_count": 10,
   "metadata": {
    "colab": {},
    "colab_type": "code",
    "id": "8COMn5lfs0jR"
   },
   "outputs": [],
   "source": [
    "# Create paths to data\n",
    "train_data_dir = pathlib.Path('train')\n",
    "test_data_dir = pathlib.Path('test')\n",
    "valid_data_dir = pathlib.Path('valid')"
   ]
  },
  {
   "cell_type": "code",
   "execution_count": 11,
   "metadata": {
    "colab": {},
    "colab_type": "code",
    "id": "bsUIeuzss0lM"
   },
   "outputs": [],
   "source": [
    "# Obtain class names\n",
    "CLASS_NAMES = np.array([item.name for item in train_data_dir.glob('*') if item.name != \"LICENSE.txt\"])"
   ]
  },
  {
   "cell_type": "code",
   "execution_count": 12,
   "metadata": {
    "colab": {
     "base_uri": "https://localhost:8080/",
     "height": 73
    },
    "colab_type": "code",
    "id": "zmYXDsEmU7xG",
    "outputId": "de01994c-f14a-4374-a976-3faeea62b19f"
   },
   "outputs": [
    {
     "name": "stdout",
     "output_type": "stream",
     "text": [
      "Number of train photos : 12000\n",
      "Number of validation photos : 2880\n",
      "Number of test photos : 5700\n"
     ]
    }
   ],
   "source": [
    "# Check the data size\n",
    "train_size = len(list(train_data_dir.glob('*/*.jpg')))\n",
    "valid_size = len(list(valid_data_dir.glob('*/*.jpg')))\n",
    "test_size = len(list(test_data_dir.glob('*/*.jpg')))\n",
    "print(\"Number of train photos : \" + str(train_size))\n",
    "print(\"Number of validation photos : \" + str(valid_size))\n",
    "print(\"Number of test photos : \" + str(test_size))"
   ]
  },
  {
   "cell_type": "markdown",
   "metadata": {},
   "source": [
    "# Créer les générateurs"
   ]
  },
  {
   "cell_type": "code",
   "execution_count": 13,
   "metadata": {
    "colab": {},
    "colab_type": "code",
    "id": "Rvv-av2_s0lr"
   },
   "outputs": [],
   "source": [
    "batch_size = 32\n",
    "IMG_HEIGHT = 224\n",
    "IMG_WIDTH = 224"
   ]
  },
  {
   "cell_type": "code",
   "execution_count": 14,
   "metadata": {
    "colab": {
     "base_uri": "https://localhost:8080/",
     "height": 36
    },
    "colab_type": "code",
    "id": "QNGBB_Wue7Yc",
    "outputId": "b9f3991f-d00e-4c4a-d10b-abc93f1f4237"
   },
   "outputs": [],
   "source": [
    "# Fit the generator including data augmentation\n",
    "train_generator = ImageDataGenerator(rescale=1./255, \n",
    "                                     width_shift_range = 0.2,\n",
    "                                     height_shift_range = 0.2, \n",
    "                                     horizontal_flip=True,\n",
    "                                     rotation_range=20, \n",
    "                                     brightness_range= [0.5, 1.2])"
   ]
  },
  {
   "cell_type": "code",
   "execution_count": 15,
   "metadata": {
    "colab": {
     "base_uri": "https://localhost:8080/",
     "height": 36
    },
    "colab_type": "code",
    "id": "nXOk36nZs0ly",
    "outputId": "76dab613-4510-4836-c001-1f9245ea8aec"
   },
   "outputs": [
    {
     "name": "stdout",
     "output_type": "stream",
     "text": [
      "Found 12000 images belonging to 120 classes.\n"
     ]
    }
   ],
   "source": [
    "# Create the train generator from directory\n",
    "train_data_gen = train_generator.flow_from_directory(directory=str(train_data_dir),\n",
    "                                                     seed=23,\n",
    "                                                     batch_size=batch_size,\n",
    "                                                     shuffle=True,\n",
    "                                                     target_size=(IMG_HEIGHT, IMG_WIDTH),\n",
    "                                                     classes = list(CLASS_NAMES), \n",
    "                                                     class_mode=\"sparse\"\n",
    "                                                     )"
   ]
  },
  {
   "cell_type": "code",
   "execution_count": 16,
   "metadata": {
    "colab": {},
    "colab_type": "code",
    "id": "Du-jC8sts0l_"
   },
   "outputs": [],
   "source": [
    "# Create the test generator - no data augmentation but convert the data from uint8 to float32 in range [0,1].\n",
    "test_generator = ImageDataGenerator(rescale=1./255)"
   ]
  },
  {
   "cell_type": "code",
   "execution_count": 17,
   "metadata": {
    "colab": {
     "base_uri": "https://localhost:8080/",
     "height": 36
    },
    "colab_type": "code",
    "id": "fhOwlADts0l3",
    "outputId": "7fe7d241-f31d-4349-d540-9aad2e7e6fec"
   },
   "outputs": [
    {
     "name": "stdout",
     "output_type": "stream",
     "text": [
      "Found 2880 images belonging to 120 classes.\n"
     ]
    }
   ],
   "source": [
    "# Create the valid generator from directory\n",
    "valid_data_gen = test_generator.flow_from_directory(directory=str(valid_data_dir),\n",
    "                                                     seed=23,\n",
    "                                                     batch_size=batch_size,\n",
    "                                                     shuffle=True,\n",
    "                                                     target_size=(IMG_HEIGHT, IMG_WIDTH),\n",
    "                                                     classes = list(CLASS_NAMES),\n",
    "                                                     class_mode=\"sparse\"\n",
    "                                                     )"
   ]
  },
  {
   "cell_type": "code",
   "execution_count": 18,
   "metadata": {
    "colab": {
     "base_uri": "https://localhost:8080/",
     "height": 36
    },
    "colab_type": "code",
    "id": "3k23_Zzbs0mD",
    "outputId": "d527cb8e-95ac-447b-a0d4-d236fe8e38e1"
   },
   "outputs": [
    {
     "name": "stdout",
     "output_type": "stream",
     "text": [
      "Found 5700 images belonging to 120 classes.\n"
     ]
    }
   ],
   "source": [
    "# Create the test generator from directory\n",
    "test_data_gen = test_generator.flow_from_directory(directory=str(test_data_dir),\n",
    "                                                     seed=23,\n",
    "                                                     batch_size=batch_size,\n",
    "                                                     shuffle=True,\n",
    "                                                     target_size=(IMG_HEIGHT, IMG_WIDTH),\n",
    "                                                     classes = list(CLASS_NAMES),\n",
    "                                                     class_mode=\"sparse\")"
   ]
  },
  {
   "cell_type": "markdown",
   "metadata": {
    "colab_type": "text",
    "id": "bVJHqm8JsUY7"
   },
   "source": [
    "# Modèle CNN from scratch"
   ]
  },
  {
   "cell_type": "markdown",
   "metadata": {
    "colab_type": "text",
    "id": "47C5Q6jhXa8p"
   },
   "source": [
    "Nous allons  excétuter le modèle la plus performant en termes de précision. Cette fois ci, nous augmentons le nombre d'epochs à 40 pour pouvoir observer l'évolution d'apprentissage. \n",
    "\n",
    "Nous ajoutons le callback earlystopping afin d'arrêter l'apprentissage s'il n'y a plus d'évolution."
   ]
  },
  {
   "cell_type": "code",
   "execution_count": 19,
   "metadata": {
    "colab": {
     "base_uri": "https://localhost:8080/",
     "height": 613
    },
    "colab_type": "code",
    "id": "JcQ0iuGfXucu",
    "outputId": "d5e10125-7a7b-4271-a42a-56e4692416f0"
   },
   "outputs": [
    {
     "name": "stdout",
     "output_type": "stream",
     "text": [
      "WARNING:tensorflow:From /home/ec2-user/anaconda3/envs/tensorflow_p27/lib/python2.7/site-packages/tensorflow/python/ops/init_ops.py:1251: calling __init__ (from tensorflow.python.ops.init_ops) with dtype is deprecated and will be removed in a future version.\n",
      "Instructions for updating:\n",
      "Call initializer instance with the dtype argument instead of passing it to the constructor\n",
      "Model: \"sequential\"\n",
      "_________________________________________________________________\n",
      "Layer (type)                 Output Shape              Param #   \n",
      "=================================================================\n",
      "conv2d (Conv2D)              (None, 112, 112, 64)      9472      \n",
      "_________________________________________________________________\n",
      "max_pooling2d (MaxPooling2D) (None, 56, 56, 64)        0         \n",
      "_________________________________________________________________\n",
      "conv2d_1 (Conv2D)            (None, 56, 56, 128)       73856     \n",
      "_________________________________________________________________\n",
      "conv2d_2 (Conv2D)            (None, 56, 56, 128)       147584    \n",
      "_________________________________________________________________\n",
      "max_pooling2d_1 (MaxPooling2 (None, 28, 28, 128)       0         \n",
      "_________________________________________________________________\n",
      "conv2d_3 (Conv2D)            (None, 28, 28, 256)       295168    \n",
      "_________________________________________________________________\n",
      "conv2d_4 (Conv2D)            (None, 28, 28, 256)       590080    \n",
      "_________________________________________________________________\n",
      "max_pooling2d_2 (MaxPooling2 (None, 14, 14, 256)       0         \n",
      "_________________________________________________________________\n",
      "flatten (Flatten)            (None, 50176)             0         \n",
      "_________________________________________________________________\n",
      "dense (Dense)                (None, 64)                3211328   \n",
      "_________________________________________________________________\n",
      "dropout (Dropout)            (None, 64)                0         \n",
      "_________________________________________________________________\n",
      "dense_1 (Dense)              (None, 120)               7800      \n",
      "=================================================================\n",
      "Total params: 4,335,288\n",
      "Trainable params: 4,335,288\n",
      "Non-trainable params: 0\n",
      "_________________________________________________________________\n"
     ]
    }
   ],
   "source": [
    "my_CNN = keras.models.Sequential([\n",
    "    keras.layers.Conv2D(64, 7, activation=\"relu\", padding=\"same\", strides=2, input_shape=[224, 224, 3]), \n",
    "    keras.layers.MaxPooling2D(2),\n",
    "    keras.layers.Conv2D(128, 3, activation=\"relu\", padding=\"same\", strides=1), \n",
    "    keras.layers.Conv2D(128, 3, activation=\"relu\", padding=\"same\", strides=1),\n",
    "    keras.layers.MaxPooling2D(2),\n",
    "    keras.layers.Conv2D(256, 3, activation=\"relu\", padding=\"same\", strides=1),\n",
    "    keras.layers.Conv2D(256, 3, activation=\"relu\", padding=\"same\", strides=1),\n",
    "    keras.layers.MaxPooling2D(2),\n",
    "    keras.layers.Flatten(),    \n",
    "    keras.layers.Dense(64, activation=\"relu\"),\n",
    "    keras.layers.Dropout(0.5),\n",
    "    keras.layers.Dense(120, activation=\"softmax\")\n",
    "])\n",
    "my_CNN.summary()"
   ]
  },
  {
   "cell_type": "code",
   "execution_count": 20,
   "metadata": {
    "colab": {},
    "colab_type": "code",
    "id": "_mPtX7KbXudT"
   },
   "outputs": [],
   "source": [
    "# Compile the modele \n",
    "my_CNN.compile(optimizer=keras.optimizers.SGD(lr=0.0001, momentum=0.9), loss='sparse_categorical_crossentropy', metrics=['accuracy'])"
   ]
  },
  {
   "cell_type": "code",
   "execution_count": 21,
   "metadata": {
    "colab": {},
    "colab_type": "code",
    "id": "2cyBuvYeXudm"
   },
   "outputs": [],
   "source": [
    "# Checkpoint_cb : save the best model\n",
    "checkpoint_cb = keras.callbacks.ModelCheckpoint(\"my_CNN4.h5\", save_best_only=True)\n",
    "\n",
    "# Early stopping : stop the execution if the model do not improve the performance for 5 epochs                                \n",
    "early_stopping_cb = keras.callbacks.EarlyStopping(patience=5, \n",
    "                                                 restore_best_weights=True)"
   ]
  },
  {
   "cell_type": "code",
   "execution_count": 22,
   "metadata": {
    "colab": {
     "base_uri": "https://localhost:8080/",
     "height": 408
    },
    "colab_type": "code",
    "id": "VxFNjbJFXuds",
    "outputId": "62d31ac0-81e5-45ac-e35e-6aad2a5dd7ca"
   },
   "outputs": [
    {
     "name": "stdout",
     "output_type": "stream",
     "text": [
      "Epoch 1/40\n",
      "375/375 [==============================] - 172s 459ms/step - loss: 4.7877 - acc: 0.0070 - val_loss: 4.7878 - val_acc: 0.0080\n",
      "Epoch 2/40\n",
      "375/375 [==============================] - 170s 454ms/step - loss: 4.7875 - acc: 0.0081 - val_loss: 4.7875 - val_acc: 0.0087\n",
      "Epoch 3/40\n",
      "375/375 [==============================] - 170s 452ms/step - loss: 4.7874 - acc: 0.0095 - val_loss: 4.7872 - val_acc: 0.0094\n",
      "Epoch 4/40\n",
      "375/375 [==============================] - 170s 453ms/step - loss: 4.7872 - acc: 0.0101 - val_loss: 4.7871 - val_acc: 0.0073\n",
      "Epoch 5/40\n",
      "375/375 [==============================] - 169s 451ms/step - loss: 4.7872 - acc: 0.0090 - val_loss: 4.7869 - val_acc: 0.0097\n",
      "Epoch 6/40\n",
      "375/375 [==============================] - 172s 459ms/step - loss: 4.7872 - acc: 0.0079 - val_loss: 4.7868 - val_acc: 0.0108\n",
      "Epoch 7/40\n",
      "375/375 [==============================] - 170s 454ms/step - loss: 4.7868 - acc: 0.0095 - val_loss: 4.7868 - val_acc: 0.0097\n",
      "Epoch 8/40\n",
      "375/375 [==============================] - 170s 454ms/step - loss: 4.7869 - acc: 0.0089 - val_loss: 4.7867 - val_acc: 0.0080\n",
      "Epoch 9/40\n",
      "375/375 [==============================] - 169s 451ms/step - loss: 4.7870 - acc: 0.0083 - val_loss: 4.7865 - val_acc: 0.0083\n",
      "Epoch 10/40\n",
      "375/375 [==============================] - 171s 457ms/step - loss: 4.7867 - acc: 0.0084 - val_loss: 4.7863 - val_acc: 0.0080\n",
      "Epoch 11/40\n",
      "375/375 [==============================] - 174s 463ms/step - loss: 4.7864 - acc: 0.0098 - val_loss: 4.7862 - val_acc: 0.0083\n",
      "Epoch 12/40\n",
      "375/375 [==============================] - 169s 450ms/step - loss: 4.7863 - acc: 0.0097 - val_loss: 4.7861 - val_acc: 0.0083\n",
      "Epoch 13/40\n",
      "375/375 [==============================] - 169s 449ms/step - loss: 4.7864 - acc: 0.0103 - val_loss: 4.7858 - val_acc: 0.0080\n",
      "Epoch 14/40\n",
      "375/375 [==============================] - 171s 455ms/step - loss: 4.7862 - acc: 0.0093 - val_loss: 4.7855 - val_acc: 0.0076\n",
      "Epoch 15/40\n",
      "375/375 [==============================] - 170s 452ms/step - loss: 4.7862 - acc: 0.0097 - val_loss: 4.7854 - val_acc: 0.0076\n",
      "Epoch 16/40\n",
      "375/375 [==============================] - 171s 455ms/step - loss: 4.7860 - acc: 0.0097 - val_loss: 4.7851 - val_acc: 0.0094\n",
      "Epoch 17/40\n",
      "375/375 [==============================] - 170s 452ms/step - loss: 4.7858 - acc: 0.0106 - val_loss: 4.7847 - val_acc: 0.0087\n",
      "Epoch 18/40\n",
      "375/375 [==============================] - 169s 449ms/step - loss: 4.7852 - acc: 0.0102 - val_loss: 4.7843 - val_acc: 0.0080\n",
      "Epoch 19/40\n",
      "375/375 [==============================] - 170s 454ms/step - loss: 4.7852 - acc: 0.0097 - val_loss: 4.7838 - val_acc: 0.0108\n",
      "Epoch 20/40\n",
      "375/375 [==============================] - 170s 453ms/step - loss: 4.7850 - acc: 0.0098 - val_loss: 4.7834 - val_acc: 0.0080\n",
      "Epoch 21/40\n",
      "375/375 [==============================] - 171s 456ms/step - loss: 4.7841 - acc: 0.0097 - val_loss: 4.7826 - val_acc: 0.0083\n",
      "Epoch 22/40\n",
      "375/375 [==============================] - 170s 454ms/step - loss: 4.7846 - acc: 0.0103 - val_loss: 4.7822 - val_acc: 0.0101\n",
      "Epoch 23/40\n",
      "375/375 [==============================] - 170s 454ms/step - loss: 4.7838 - acc: 0.0109 - val_loss: 4.7815 - val_acc: 0.0083\n",
      "Epoch 24/40\n",
      "375/375 [==============================] - 171s 455ms/step - loss: 4.7835 - acc: 0.0102 - val_loss: 4.7806 - val_acc: 0.0087\n",
      "Epoch 25/40\n",
      "375/375 [==============================] - 171s 456ms/step - loss: 4.7833 - acc: 0.0084 - val_loss: 4.7799 - val_acc: 0.0122\n",
      "Epoch 26/40\n",
      "375/375 [==============================] - 172s 460ms/step - loss: 4.7816 - acc: 0.0120 - val_loss: 4.7785 - val_acc: 0.0090\n",
      "Epoch 27/40\n",
      "375/375 [==============================] - 170s 452ms/step - loss: 4.7817 - acc: 0.0111 - val_loss: 4.7778 - val_acc: 0.0132\n",
      "Epoch 28/40\n",
      "375/375 [==============================] - 169s 451ms/step - loss: 4.7823 - acc: 0.0087 - val_loss: 4.7768 - val_acc: 0.0101\n",
      "Epoch 29/40\n",
      "375/375 [==============================] - 168s 448ms/step - loss: 4.7798 - acc: 0.0103 - val_loss: 4.7752 - val_acc: 0.0104\n",
      "Epoch 30/40\n",
      "375/375 [==============================] - 171s 457ms/step - loss: 4.7796 - acc: 0.0103 - val_loss: 4.7744 - val_acc: 0.0132\n",
      "Epoch 31/40\n",
      "375/375 [==============================] - 171s 456ms/step - loss: 4.7794 - acc: 0.0106 - val_loss: 4.7728 - val_acc: 0.0090\n",
      "Epoch 32/40\n",
      "375/375 [==============================] - 171s 455ms/step - loss: 4.7776 - acc: 0.0079 - val_loss: 4.7718 - val_acc: 0.0104\n",
      "Epoch 33/40\n",
      "375/375 [==============================] - 169s 450ms/step - loss: 4.7779 - acc: 0.0104 - val_loss: 4.7694 - val_acc: 0.0128\n",
      "Epoch 34/40\n",
      "375/375 [==============================] - 169s 450ms/step - loss: 4.7781 - acc: 0.0092 - val_loss: 4.7697 - val_acc: 0.0104\n",
      "Epoch 35/40\n",
      "375/375 [==============================] - 170s 454ms/step - loss: 4.7776 - acc: 0.0127 - val_loss: 4.7681 - val_acc: 0.0101\n",
      "Epoch 36/40\n",
      "375/375 [==============================] - 168s 449ms/step - loss: 4.7764 - acc: 0.0113 - val_loss: 4.7649 - val_acc: 0.0125\n",
      "Epoch 37/40\n",
      "375/375 [==============================] - 169s 450ms/step - loss: 4.7741 - acc: 0.0112 - val_loss: 4.7644 - val_acc: 0.0118\n",
      "Epoch 38/40\n",
      "375/375 [==============================] - 171s 456ms/step - loss: 4.7755 - acc: 0.0124 - val_loss: 4.7625 - val_acc: 0.0104\n",
      "Epoch 39/40\n",
      "375/375 [==============================] - 170s 453ms/step - loss: 4.7715 - acc: 0.0130 - val_loss: 4.7600 - val_acc: 0.0111\n",
      "Epoch 40/40\n",
      "375/375 [==============================] - 170s 454ms/step - loss: 4.7709 - acc: 0.0110 - val_loss: 4.7594 - val_acc: 0.0111\n",
      "--- 1 hours 53 mins ---\n"
     ]
    }
   ],
   "source": [
    "# Measure the time of execution\n",
    "start_time = time.time()\n",
    "\n",
    "# Set epochs\n",
    "epochs = 40\n",
    "\n",
    "# Train the model\n",
    "history1 = my_CNN.fit_generator(\n",
    "    train_data_gen,\n",
    "    validation_data=valid_data_gen, \n",
    "    steps_per_epoch=np.ceil(train_size/batch_size),\n",
    "    validation_steps=np.ceil(valid_size/batch_size),\n",
    "    epochs=epochs, \n",
    "    callbacks=[checkpoint_cb, early_stopping_cb], \n",
    "    verbose=1)\n",
    "\n",
    "# Print the time of execution\n",
    "print(\"--- \" + str(int((time.time() - start_time)//3600)) + \" hours \" \n",
    "      + str(int(((time.time() - start_time)%3600)//60)) + \" mins ---\")"
   ]
  },
  {
   "cell_type": "code",
   "execution_count": 24,
   "metadata": {},
   "outputs": [
    {
     "data": {
      "image/png": "[encoded data removed]",
      "text/plain": [
       "<Figure size 432x288 with 1 Axes>"
      ]
     },
     "metadata": {},
     "output_type": "display_data"
    },
    {
     "data": {
      "image/png": "[encoded data removed]",
      "text/plain": [
       "<Figure size 432x288 with 1 Axes>"
      ]
     },
     "metadata": {},
     "output_type": "display_data"
    }
   ],
   "source": [
    "#Plot the training & validation loss & accuracy\n",
    "import matplotlib.pyplot as plt\n",
    "\n",
    "acc = history1.history['acc']\n",
    "val_acc = history1.history['val_acc']\n",
    "loss = history1.history['loss']\n",
    "val_loss = history1.history['val_loss']\n",
    "\n",
    "epochs = range(len(acc))\n",
    "\n",
    "plt.plot(epochs, acc, 'bo', label='Training acc')\n",
    "plt.plot(epochs, val_acc, 'b', label='Validation acc')\n",
    "plt.title('Training and validation accuracy')\n",
    "plt.legend()\n",
    "\n",
    "plt.figure()\n",
    "\n",
    "plt.plot(epochs, loss, 'bo', label='Training loss')\n",
    "plt.plot(epochs, val_loss, 'b', label='Validation loss')\n",
    "plt.title('Training and validation loss')\n",
    "plt.legend()\n",
    "\n",
    "plt.show()"
   ]
  },
  {
   "cell_type": "code",
   "execution_count": 26,
   "metadata": {
    "colab": {
     "base_uri": "https://localhost:8080/",
     "height": 54
    },
    "colab_type": "code",
    "id": "S5N4BhxZXudy",
    "outputId": "c156281f-2a36-4736-8175-31f25f85a35f"
   },
   "outputs": [
    {
     "name": "stdout",
     "output_type": "stream",
     "text": [
      "179/179 [==============================] - 11s 64ms/step - loss: 4.7570 - acc: 0.0079\n"
     ]
    },
    {
     "data": {
      "text/plain": [
       "[4.756963591335872, 0.007894737]"
      ]
     },
     "execution_count": 26,
     "metadata": {},
     "output_type": "execute_result"
    }
   ],
   "source": [
    "# Evaluate the model on test data\n",
    "my_CNN.load_weights('my_CNN4.h5')\n",
    "\n",
    "my_CNN.evaluate(test_data_gen)"
   ]
  },
  {
   "cell_type": "markdown",
   "metadata": {
    "colab": {},
    "colab_type": "code",
    "id": "EK4Vx6LNXQrP"
   },
   "source": [
    "# Transfer learning"
   ]
  },
  {
   "cell_type": "markdown",
   "metadata": {
    "colab": {},
    "colab_type": "code",
    "id": "mE8zhOtrXQoJ"
   },
   "source": [
    "## Fine-tuning partiel"
   ]
  },
  {
   "cell_type": "markdown",
   "metadata": {
    "colab": {},
    "colab_type": "code",
    "id": "aVlQPbYEXQlJ"
   },
   "source": [
    "Nous avons testés deux modèles - ResNet50 et Xception dans l'environnement GPU de Google colab sur un échantillon de 5 races de chien. Le modèle qui performe le mieux en termes de précision et qui en même temps n'a pas de tendance de surapprendre est le modèle Xception avec fine-tuning partiel de 7 premières couches qui correspondent au block 1 (voir le notebook Projet6_echantillon).\n",
    "\n",
    "Nous allons donc utiliser ce modèle pour l'exécuter sur le jeu de données complète."
   ]
  },
  {
   "cell_type": "markdown",
   "metadata": {},
   "source": [
    "### Paramètrage de modèle"
   ]
  },
  {
   "cell_type": "code",
   "execution_count": 27,
   "metadata": {},
   "outputs": [
    {
     "name": "stdout",
     "output_type": "stream",
     "text": [
      "Downloading data from https://github.com/fchollet/deep-learning-models/releases/download/v0.4/xception_weights_tf_dim_ordering_tf_kernels_notop.h5\n",
      "83689472/83683744 [==============================] - 1s 0us/step\n",
      "83697664/83683744 [==============================] - 1s 0us/step\n",
      "Model: \"xception\"\n",
      "__________________________________________________________________________________________________\n",
      "Layer (type)                    Output Shape         Param #     Connected to                     \n",
      "==================================================================================================\n",
      "input_1 (InputLayer)            [(None, None, None,  0                                            \n",
      "__________________________________________________________________________________________________\n",
      "block1_conv1 (Conv2D)           (None, None, None, 3 864         input_1[0][0]                    \n",
      "__________________________________________________________________________________________________\n",
      "block1_conv1_bn (BatchNormaliza (None, None, None, 3 128         block1_conv1[0][0]               \n",
      "__________________________________________________________________________________________________\n",
      "block1_conv1_act (Activation)   (None, None, None, 3 0           block1_conv1_bn[0][0]            \n",
      "__________________________________________________________________________________________________\n",
      "block1_conv2 (Conv2D)           (None, None, None, 6 18432       block1_conv1_act[0][0]           \n",
      "__________________________________________________________________________________________________\n",
      "block1_conv2_bn (BatchNormaliza (None, None, None, 6 256         block1_conv2[0][0]               \n",
      "__________________________________________________________________________________________________\n",
      "block1_conv2_act (Activation)   (None, None, None, 6 0           block1_conv2_bn[0][0]            \n",
      "__________________________________________________________________________________________________\n",
      "block2_sepconv1 (SeparableConv2 (None, None, None, 1 8768        block1_conv2_act[0][0]           \n",
      "__________________________________________________________________________________________________\n",
      "block2_sepconv1_bn (BatchNormal (None, None, None, 1 512         block2_sepconv1[0][0]            \n",
      "__________________________________________________________________________________________________\n",
      "block2_sepconv2_act (Activation (None, None, None, 1 0           block2_sepconv1_bn[0][0]         \n",
      "__________________________________________________________________________________________________\n",
      "block2_sepconv2 (SeparableConv2 (None, None, None, 1 17536       block2_sepconv2_act[0][0]        \n",
      "__________________________________________________________________________________________________\n",
      "block2_sepconv2_bn (BatchNormal (None, None, None, 1 512         block2_sepconv2[0][0]            \n",
      "__________________________________________________________________________________________________\n",
      "conv2d_5 (Conv2D)               (None, None, None, 1 8192        block1_conv2_act[0][0]           \n",
      "__________________________________________________________________________________________________\n",
      "block2_pool (MaxPooling2D)      (None, None, None, 1 0           block2_sepconv2_bn[0][0]         \n",
      "__________________________________________________________________________________________________\n",
      "batch_normalization (BatchNorma (None, None, None, 1 512         conv2d_5[0][0]                   \n",
      "__________________________________________________________________________________________________\n",
      "add (Add)                       (None, None, None, 1 0           block2_pool[0][0]                \n",
      "                                                                 batch_normalization[0][0]        \n",
      "__________________________________________________________________________________________________\n",
      "block3_sepconv1_act (Activation (None, None, None, 1 0           add[0][0]                        \n",
      "__________________________________________________________________________________________________\n",
      "block3_sepconv1 (SeparableConv2 (None, None, None, 2 33920       block3_sepconv1_act[0][0]        \n",
      "__________________________________________________________________________________________________\n",
      "block3_sepconv1_bn (BatchNormal (None, None, None, 2 1024        block3_sepconv1[0][0]            \n",
      "__________________________________________________________________________________________________\n",
      "block3_sepconv2_act (Activation (None, None, None, 2 0           block3_sepconv1_bn[0][0]         \n",
      "__________________________________________________________________________________________________\n",
      "block3_sepconv2 (SeparableConv2 (None, None, None, 2 67840       block3_sepconv2_act[0][0]        \n",
      "__________________________________________________________________________________________________\n",
      "block3_sepconv2_bn (BatchNormal (None, None, None, 2 1024        block3_sepconv2[0][0]            \n",
      "__________________________________________________________________________________________________\n",
      "conv2d_6 (Conv2D)               (None, None, None, 2 32768       add[0][0]                        \n",
      "__________________________________________________________________________________________________\n",
      "block3_pool (MaxPooling2D)      (None, None, None, 2 0           block3_sepconv2_bn[0][0]         \n",
      "__________________________________________________________________________________________________\n",
      "batch_normalization_1 (BatchNor (None, None, None, 2 1024        conv2d_6[0][0]                   \n",
      "__________________________________________________________________________________________________\n",
      "add_1 (Add)                     (None, None, None, 2 0           block3_pool[0][0]                \n",
      "                                                                 batch_normalization_1[0][0]      \n",
      "__________________________________________________________________________________________________\n",
      "block4_sepconv1_act (Activation (None, None, None, 2 0           add_1[0][0]                      \n",
      "__________________________________________________________________________________________________\n",
      "block4_sepconv1 (SeparableConv2 (None, None, None, 7 188672      block4_sepconv1_act[0][0]        \n",
      "__________________________________________________________________________________________________\n",
      "block4_sepconv1_bn (BatchNormal (None, None, None, 7 2912        block4_sepconv1[0][0]            \n",
      "__________________________________________________________________________________________________\n",
      "block4_sepconv2_act (Activation (None, None, None, 7 0           block4_sepconv1_bn[0][0]         \n",
      "__________________________________________________________________________________________________\n",
      "block4_sepconv2 (SeparableConv2 (None, None, None, 7 536536      block4_sepconv2_act[0][0]        \n",
      "__________________________________________________________________________________________________\n",
      "block4_sepconv2_bn (BatchNormal (None, None, None, 7 2912        block4_sepconv2[0][0]            \n",
      "__________________________________________________________________________________________________\n",
      "conv2d_7 (Conv2D)               (None, None, None, 7 186368      add_1[0][0]                      \n",
      "__________________________________________________________________________________________________\n",
      "block4_pool (MaxPooling2D)      (None, None, None, 7 0           block4_sepconv2_bn[0][0]         \n",
      "__________________________________________________________________________________________________\n",
      "batch_normalization_2 (BatchNor (None, None, None, 7 2912        conv2d_7[0][0]                   \n",
      "__________________________________________________________________________________________________\n",
      "add_2 (Add)                     (None, None, None, 7 0           block4_pool[0][0]                \n",
      "                                                                 batch_normalization_2[0][0]      \n",
      "__________________________________________________________________________________________________\n",
      "block5_sepconv1_act (Activation (None, None, None, 7 0           add_2[0][0]                      \n",
      "__________________________________________________________________________________________________\n",
      "block5_sepconv1 (SeparableConv2 (None, None, None, 7 536536      block5_sepconv1_act[0][0]        \n",
      "__________________________________________________________________________________________________\n",
      "block5_sepconv1_bn (BatchNormal (None, None, None, 7 2912        block5_sepconv1[0][0]            \n",
      "__________________________________________________________________________________________________\n",
      "block5_sepconv2_act (Activation (None, None, None, 7 0           block5_sepconv1_bn[0][0]         \n",
      "__________________________________________________________________________________________________\n",
      "block5_sepconv2 (SeparableConv2 (None, None, None, 7 536536      block5_sepconv2_act[0][0]        \n",
      "__________________________________________________________________________________________________\n",
      "block5_sepconv2_bn (BatchNormal (None, None, None, 7 2912        block5_sepconv2[0][0]            \n",
      "__________________________________________________________________________________________________\n",
      "block5_sepconv3_act (Activation (None, None, None, 7 0           block5_sepconv2_bn[0][0]         \n",
      "__________________________________________________________________________________________________\n",
      "block5_sepconv3 (SeparableConv2 (None, None, None, 7 536536      block5_sepconv3_act[0][0]        \n",
      "__________________________________________________________________________________________________\n",
      "block5_sepconv3_bn (BatchNormal (None, None, None, 7 2912        block5_sepconv3[0][0]            \n",
      "__________________________________________________________________________________________________\n",
      "add_3 (Add)                     (None, None, None, 7 0           block5_sepconv3_bn[0][0]         \n",
      "                                                                 add_2[0][0]                      \n",
      "__________________________________________________________________________________________________\n",
      "block6_sepconv1_act (Activation (None, None, None, 7 0           add_3[0][0]                      \n",
      "__________________________________________________________________________________________________\n",
      "block6_sepconv1 (SeparableConv2 (None, None, None, 7 536536      block6_sepconv1_act[0][0]        \n",
      "__________________________________________________________________________________________________\n",
      "block6_sepconv1_bn (BatchNormal (None, None, None, 7 2912        block6_sepconv1[0][0]            \n",
      "__________________________________________________________________________________________________\n",
      "block6_sepconv2_act (Activation (None, None, None, 7 0           block6_sepconv1_bn[0][0]         \n",
      "__________________________________________________________________________________________________\n",
      "block6_sepconv2 (SeparableConv2 (None, None, None, 7 536536      block6_sepconv2_act[0][0]        \n",
      "__________________________________________________________________________________________________\n",
      "block6_sepconv2_bn (BatchNormal (None, None, None, 7 2912        block6_sepconv2[0][0]            \n",
      "__________________________________________________________________________________________________\n",
      "block6_sepconv3_act (Activation (None, None, None, 7 0           block6_sepconv2_bn[0][0]         \n",
      "__________________________________________________________________________________________________\n",
      "block6_sepconv3 (SeparableConv2 (None, None, None, 7 536536      block6_sepconv3_act[0][0]        \n",
      "__________________________________________________________________________________________________\n",
      "block6_sepconv3_bn (BatchNormal (None, None, None, 7 2912        block6_sepconv3[0][0]            \n",
      "__________________________________________________________________________________________________\n",
      "add_4 (Add)                     (None, None, None, 7 0           block6_sepconv3_bn[0][0]         \n",
      "                                                                 add_3[0][0]                      \n",
      "__________________________________________________________________________________________________\n",
      "block7_sepconv1_act (Activation (None, None, None, 7 0           add_4[0][0]                      \n",
      "__________________________________________________________________________________________________\n",
      "block7_sepconv1 (SeparableConv2 (None, None, None, 7 536536      block7_sepconv1_act[0][0]        \n",
      "__________________________________________________________________________________________________\n",
      "block7_sepconv1_bn (BatchNormal (None, None, None, 7 2912        block7_sepconv1[0][0]            \n",
      "__________________________________________________________________________________________________\n",
      "block7_sepconv2_act (Activation (None, None, None, 7 0           block7_sepconv1_bn[0][0]         \n",
      "__________________________________________________________________________________________________\n",
      "block7_sepconv2 (SeparableConv2 (None, None, None, 7 536536      block7_sepconv2_act[0][0]        \n",
      "__________________________________________________________________________________________________\n",
      "block7_sepconv2_bn (BatchNormal (None, None, None, 7 2912        block7_sepconv2[0][0]            \n",
      "__________________________________________________________________________________________________\n",
      "block7_sepconv3_act (Activation (None, None, None, 7 0           block7_sepconv2_bn[0][0]         \n",
      "__________________________________________________________________________________________________\n",
      "block7_sepconv3 (SeparableConv2 (None, None, None, 7 536536      block7_sepconv3_act[0][0]        \n",
      "__________________________________________________________________________________________________\n",
      "block7_sepconv3_bn (BatchNormal (None, None, None, 7 2912        block7_sepconv3[0][0]            \n",
      "__________________________________________________________________________________________________\n",
      "add_5 (Add)                     (None, None, None, 7 0           block7_sepconv3_bn[0][0]         \n",
      "                                                                 add_4[0][0]                      \n",
      "__________________________________________________________________________________________________\n",
      "block8_sepconv1_act (Activation (None, None, None, 7 0           add_5[0][0]                      \n",
      "__________________________________________________________________________________________________\n",
      "block8_sepconv1 (SeparableConv2 (None, None, None, 7 536536      block8_sepconv1_act[0][0]        \n",
      "__________________________________________________________________________________________________\n",
      "block8_sepconv1_bn (BatchNormal (None, None, None, 7 2912        block8_sepconv1[0][0]            \n",
      "__________________________________________________________________________________________________\n",
      "block8_sepconv2_act (Activation (None, None, None, 7 0           block8_sepconv1_bn[0][0]         \n",
      "__________________________________________________________________________________________________\n",
      "block8_sepconv2 (SeparableConv2 (None, None, None, 7 536536      block8_sepconv2_act[0][0]        \n",
      "__________________________________________________________________________________________________\n",
      "block8_sepconv2_bn (BatchNormal (None, None, None, 7 2912        block8_sepconv2[0][0]            \n",
      "__________________________________________________________________________________________________\n",
      "block8_sepconv3_act (Activation (None, None, None, 7 0           block8_sepconv2_bn[0][0]         \n",
      "__________________________________________________________________________________________________\n",
      "block8_sepconv3 (SeparableConv2 (None, None, None, 7 536536      block8_sepconv3_act[0][0]        \n",
      "__________________________________________________________________________________________________\n",
      "block8_sepconv3_bn (BatchNormal (None, None, None, 7 2912        block8_sepconv3[0][0]            \n",
      "__________________________________________________________________________________________________\n",
      "add_6 (Add)                     (None, None, None, 7 0           block8_sepconv3_bn[0][0]         \n",
      "                                                                 add_5[0][0]                      \n",
      "__________________________________________________________________________________________________\n",
      "block9_sepconv1_act (Activation (None, None, None, 7 0           add_6[0][0]                      \n",
      "__________________________________________________________________________________________________\n",
      "block9_sepconv1 (SeparableConv2 (None, None, None, 7 536536      block9_sepconv1_act[0][0]        \n",
      "__________________________________________________________________________________________________\n",
      "block9_sepconv1_bn (BatchNormal (None, None, None, 7 2912        block9_sepconv1[0][0]            \n",
      "__________________________________________________________________________________________________\n",
      "block9_sepconv2_act (Activation (None, None, None, 7 0           block9_sepconv1_bn[0][0]         \n",
      "__________________________________________________________________________________________________\n",
      "block9_sepconv2 (SeparableConv2 (None, None, None, 7 536536      block9_sepconv2_act[0][0]        \n",
      "__________________________________________________________________________________________________\n",
      "block9_sepconv2_bn (BatchNormal (None, None, None, 7 2912        block9_sepconv2[0][0]            \n",
      "__________________________________________________________________________________________________\n",
      "block9_sepconv3_act (Activation (None, None, None, 7 0           block9_sepconv2_bn[0][0]         \n",
      "__________________________________________________________________________________________________\n",
      "block9_sepconv3 (SeparableConv2 (None, None, None, 7 536536      block9_sepconv3_act[0][0]        \n",
      "__________________________________________________________________________________________________\n",
      "block9_sepconv3_bn (BatchNormal (None, None, None, 7 2912        block9_sepconv3[0][0]            \n",
      "__________________________________________________________________________________________________\n",
      "add_7 (Add)                     (None, None, None, 7 0           block9_sepconv3_bn[0][0]         \n",
      "                                                                 add_6[0][0]                      \n",
      "__________________________________________________________________________________________________\n",
      "block10_sepconv1_act (Activatio (None, None, None, 7 0           add_7[0][0]                      \n",
      "__________________________________________________________________________________________________\n",
      "block10_sepconv1 (SeparableConv (None, None, None, 7 536536      block10_sepconv1_act[0][0]       \n",
      "__________________________________________________________________________________________________\n",
      "block10_sepconv1_bn (BatchNorma (None, None, None, 7 2912        block10_sepconv1[0][0]           \n",
      "__________________________________________________________________________________________________\n",
      "block10_sepconv2_act (Activatio (None, None, None, 7 0           block10_sepconv1_bn[0][0]        \n",
      "__________________________________________________________________________________________________\n",
      "block10_sepconv2 (SeparableConv (None, None, None, 7 536536      block10_sepconv2_act[0][0]       \n",
      "__________________________________________________________________________________________________\n",
      "block10_sepconv2_bn (BatchNorma (None, None, None, 7 2912        block10_sepconv2[0][0]           \n",
      "__________________________________________________________________________________________________\n",
      "block10_sepconv3_act (Activatio (None, None, None, 7 0           block10_sepconv2_bn[0][0]        \n",
      "__________________________________________________________________________________________________\n",
      "block10_sepconv3 (SeparableConv (None, None, None, 7 536536      block10_sepconv3_act[0][0]       \n",
      "__________________________________________________________________________________________________\n",
      "block10_sepconv3_bn (BatchNorma (None, None, None, 7 2912        block10_sepconv3[0][0]           \n",
      "__________________________________________________________________________________________________\n",
      "add_8 (Add)                     (None, None, None, 7 0           block10_sepconv3_bn[0][0]        \n",
      "                                                                 add_7[0][0]                      \n",
      "__________________________________________________________________________________________________\n",
      "block11_sepconv1_act (Activatio (None, None, None, 7 0           add_8[0][0]                      \n",
      "__________________________________________________________________________________________________\n",
      "block11_sepconv1 (SeparableConv (None, None, None, 7 536536      block11_sepconv1_act[0][0]       \n",
      "__________________________________________________________________________________________________\n",
      "block11_sepconv1_bn (BatchNorma (None, None, None, 7 2912        block11_sepconv1[0][0]           \n",
      "__________________________________________________________________________________________________\n",
      "block11_sepconv2_act (Activatio (None, None, None, 7 0           block11_sepconv1_bn[0][0]        \n",
      "__________________________________________________________________________________________________\n",
      "block11_sepconv2 (SeparableConv (None, None, None, 7 536536      block11_sepconv2_act[0][0]       \n",
      "__________________________________________________________________________________________________\n",
      "block11_sepconv2_bn (BatchNorma (None, None, None, 7 2912        block11_sepconv2[0][0]           \n",
      "__________________________________________________________________________________________________\n",
      "block11_sepconv3_act (Activatio (None, None, None, 7 0           block11_sepconv2_bn[0][0]        \n",
      "__________________________________________________________________________________________________\n",
      "block11_sepconv3 (SeparableConv (None, None, None, 7 536536      block11_sepconv3_act[0][0]       \n",
      "__________________________________________________________________________________________________\n",
      "block11_sepconv3_bn (BatchNorma (None, None, None, 7 2912        block11_sepconv3[0][0]           \n",
      "__________________________________________________________________________________________________\n",
      "add_9 (Add)                     (None, None, None, 7 0           block11_sepconv3_bn[0][0]        \n",
      "                                                                 add_8[0][0]                      \n",
      "__________________________________________________________________________________________________\n",
      "block12_sepconv1_act (Activatio (None, None, None, 7 0           add_9[0][0]                      \n",
      "__________________________________________________________________________________________________\n",
      "block12_sepconv1 (SeparableConv (None, None, None, 7 536536      block12_sepconv1_act[0][0]       \n",
      "__________________________________________________________________________________________________\n",
      "block12_sepconv1_bn (BatchNorma (None, None, None, 7 2912        block12_sepconv1[0][0]           \n",
      "__________________________________________________________________________________________________\n",
      "block12_sepconv2_act (Activatio (None, None, None, 7 0           block12_sepconv1_bn[0][0]        \n",
      "__________________________________________________________________________________________________\n",
      "block12_sepconv2 (SeparableConv (None, None, None, 7 536536      block12_sepconv2_act[0][0]       \n",
      "__________________________________________________________________________________________________\n",
      "block12_sepconv2_bn (BatchNorma (None, None, None, 7 2912        block12_sepconv2[0][0]           \n",
      "__________________________________________________________________________________________________\n",
      "block12_sepconv3_act (Activatio (None, None, None, 7 0           block12_sepconv2_bn[0][0]        \n",
      "__________________________________________________________________________________________________\n",
      "block12_sepconv3 (SeparableConv (None, None, None, 7 536536      block12_sepconv3_act[0][0]       \n",
      "__________________________________________________________________________________________________\n",
      "block12_sepconv3_bn (BatchNorma (None, None, None, 7 2912        block12_sepconv3[0][0]           \n",
      "__________________________________________________________________________________________________\n",
      "add_10 (Add)                    (None, None, None, 7 0           block12_sepconv3_bn[0][0]        \n",
      "                                                                 add_9[0][0]                      \n",
      "__________________________________________________________________________________________________\n",
      "block13_sepconv1_act (Activatio (None, None, None, 7 0           add_10[0][0]                     \n",
      "__________________________________________________________________________________________________\n",
      "block13_sepconv1 (SeparableConv (None, None, None, 7 536536      block13_sepconv1_act[0][0]       \n",
      "__________________________________________________________________________________________________\n",
      "block13_sepconv1_bn (BatchNorma (None, None, None, 7 2912        block13_sepconv1[0][0]           \n",
      "__________________________________________________________________________________________________\n",
      "block13_sepconv2_act (Activatio (None, None, None, 7 0           block13_sepconv1_bn[0][0]        \n",
      "__________________________________________________________________________________________________\n",
      "block13_sepconv2 (SeparableConv (None, None, None, 1 752024      block13_sepconv2_act[0][0]       \n",
      "__________________________________________________________________________________________________\n",
      "block13_sepconv2_bn (BatchNorma (None, None, None, 1 4096        block13_sepconv2[0][0]           \n",
      "__________________________________________________________________________________________________\n",
      "conv2d_8 (Conv2D)               (None, None, None, 1 745472      add_10[0][0]                     \n",
      "__________________________________________________________________________________________________\n",
      "block13_pool (MaxPooling2D)     (None, None, None, 1 0           block13_sepconv2_bn[0][0]        \n",
      "__________________________________________________________________________________________________\n",
      "batch_normalization_3 (BatchNor (None, None, None, 1 4096        conv2d_8[0][0]                   \n",
      "__________________________________________________________________________________________________\n",
      "add_11 (Add)                    (None, None, None, 1 0           block13_pool[0][0]               \n",
      "                                                                 batch_normalization_3[0][0]      \n",
      "__________________________________________________________________________________________________\n",
      "block14_sepconv1 (SeparableConv (None, None, None, 1 1582080     add_11[0][0]                     \n",
      "__________________________________________________________________________________________________\n",
      "block14_sepconv1_bn (BatchNorma (None, None, None, 1 6144        block14_sepconv1[0][0]           \n",
      "__________________________________________________________________________________________________\n",
      "block14_sepconv1_act (Activatio (None, None, None, 1 0           block14_sepconv1_bn[0][0]        \n",
      "__________________________________________________________________________________________________\n",
      "block14_sepconv2 (SeparableConv (None, None, None, 2 3159552     block14_sepconv1_act[0][0]       \n",
      "__________________________________________________________________________________________________\n",
      "block14_sepconv2_bn (BatchNorma (None, None, None, 2 8192        block14_sepconv2[0][0]           \n",
      "__________________________________________________________________________________________________\n",
      "block14_sepconv2_act (Activatio (None, None, None, 2 0           block14_sepconv2_bn[0][0]        \n",
      "==================================================================================================\n",
      "Total params: 20,861,480\n",
      "Trainable params: 20,806,952\n",
      "Non-trainable params: 54,528\n",
      "__________________________________________________________________________________________________\n"
     ]
    }
   ],
   "source": [
    "n_classes = 120\n",
    "base_model = keras.applications.xception.Xception(weights=\"imagenet\", \n",
    "                                                  include_top=False)\n",
    "base_model.summary()"
   ]
  },
  {
   "cell_type": "code",
   "execution_count": 28,
   "metadata": {},
   "outputs": [],
   "source": [
    "avg = keras.layers.GlobalAveragePooling2D()(base_model.output)\n",
    "output = keras.layers.Dense(n_classes, activation=\"softmax\")(avg)\n",
    "xception = keras.Model(inputs=base_model.input, outputs=output)"
   ]
  },
  {
   "cell_type": "code",
   "execution_count": 29,
   "metadata": {},
   "outputs": [],
   "source": [
    "# Ne pas entraîner les 7 premières couches (les plus basses) : qui correspondent au block 1\n",
    "for layer in xception.layers[:7]:\n",
    "    layer.trainable = False"
   ]
  },
  {
   "cell_type": "code",
   "execution_count": 30,
   "metadata": {},
   "outputs": [],
   "source": [
    "# Compile the modele \n",
    "xception.compile(optimizer=keras.optimizers.SGD(lr=0.0001, momentum=0.9), loss='sparse_categorical_crossentropy', metrics=['accuracy'])"
   ]
  },
  {
   "cell_type": "markdown",
   "metadata": {},
   "source": [
    "### Création de générateurs de données"
   ]
  },
  {
   "cell_type": "code",
   "execution_count": 31,
   "metadata": {},
   "outputs": [],
   "source": [
    "batch_size = 32\n",
    "IMG_HEIGHT = 224\n",
    "IMG_WIDTH = 224"
   ]
  },
  {
   "cell_type": "code",
   "execution_count": 32,
   "metadata": {},
   "outputs": [],
   "source": [
    "# Fit the generator including data augmentation\n",
    "train_generator = ImageDataGenerator(rescale=1./255, \n",
    "                                     width_shift_range = 0.2,\n",
    "                                     height_shift_range = 0.2, \n",
    "                                     horizontal_flip=True,\n",
    "                                     rotation_range=20, \n",
    "                                     brightness_range= [0.5, 1.2])"
   ]
  },
  {
   "cell_type": "code",
   "execution_count": 33,
   "metadata": {},
   "outputs": [
    {
     "name": "stdout",
     "output_type": "stream",
     "text": [
      "Found 12000 images belonging to 120 classes.\n"
     ]
    }
   ],
   "source": [
    "# Generator for train data\n",
    "train_data_gen = train_generator.flow_from_directory(directory=str(train_data_dir),\n",
    "                                                     batch_size=batch_size,\n",
    "                                                     shuffle=True,\n",
    "                                                     target_size=(IMG_HEIGHT, IMG_WIDTH),\n",
    "                                                     classes = list(CLASS_NAMES),\n",
    "                                                     class_mode=\"sparse\"\n",
    "                                                     )"
   ]
  },
  {
   "cell_type": "code",
   "execution_count": 34,
   "metadata": {},
   "outputs": [],
   "source": [
    "# The 1./255 is to convert from uint8 to float32 in range [0,1].\n",
    "test_generator = ImageDataGenerator(rescale=1./255)"
   ]
  },
  {
   "cell_type": "code",
   "execution_count": 35,
   "metadata": {},
   "outputs": [
    {
     "name": "stdout",
     "output_type": "stream",
     "text": [
      "Found 2880 images belonging to 120 classes.\n"
     ]
    }
   ],
   "source": [
    "valid_data_gen = test_generator.flow_from_directory(directory=str(valid_data_dir),\n",
    "                                                     seed=23,\n",
    "                                                     batch_size=batch_size,\n",
    "                                                     shuffle=True,\n",
    "                                                     target_size=(IMG_HEIGHT, IMG_WIDTH),\n",
    "                                                     classes = list(CLASS_NAMES),\n",
    "                                                     class_mode=\"sparse\"\n",
    "                                                     )"
   ]
  },
  {
   "cell_type": "code",
   "execution_count": 36,
   "metadata": {
    "colab": {},
    "colab_type": "code",
    "id": "vanbHw-kXQh6"
   },
   "outputs": [
    {
     "name": "stdout",
     "output_type": "stream",
     "text": [
      "Found 5700 images belonging to 120 classes.\n"
     ]
    }
   ],
   "source": [
    "test_data_gen = test_generator.flow_from_directory(directory=str(test_data_dir),\n",
    "                                                     seed=23,\n",
    "                                                     batch_size=batch_size,\n",
    "                                                     shuffle=True,\n",
    "                                                     target_size=(IMG_HEIGHT, IMG_WIDTH),\n",
    "                                                     classes = list(CLASS_NAMES),\n",
    "                                                     class_mode=\"sparse\")"
   ]
  },
  {
   "cell_type": "markdown",
   "metadata": {
    "colab": {},
    "colab_type": "code",
    "id": "K536DRzVXQfK"
   },
   "source": [
    "### Exécution n#1 : Test 1 epoch"
   ]
  },
  {
   "cell_type": "code",
   "execution_count": 37,
   "metadata": {},
   "outputs": [],
   "source": [
    "# Checkpoint_cb : save the best model\n",
    "checkpoint_cb = keras.callbacks.ModelCheckpoint(\"xception.h5\", save_best_only=True)\n",
    "\n",
    "# Early stopping : stop the execution if the model do not improve the performance for 5 epochs                                \n",
    "early_stopping_cb = keras.callbacks.EarlyStopping(patience=5, \n",
    "                                                 restore_best_weights=True)"
   ]
  },
  {
   "cell_type": "code",
   "execution_count": 34,
   "metadata": {},
   "outputs": [
    {
     "name": "stdout",
     "output_type": "stream",
     "text": [
      "  1/400 [..............................] - ETA: 4:11:48 - loss: 4.9678 - acc: 0.0000e+00WARNING:tensorflow:Method (on_train_batch_end) is slow compared to the batch update (0.537221). Check your callbacks.\n",
      "400/400 [==============================] - 236s 589ms/step - loss: 4.7870 - acc: 0.0137 - val_loss: 4.7361 - val_acc: 0.0191\n",
      "--- 0 hours 3 mins ---\n"
     ]
    }
   ],
   "source": [
    "# Measure the time of execution\n",
    "start_time = time.time()\n",
    "\n",
    "# Set epochs => Only 1 epoch to test the time of execution\n",
    "epochs = 1\n",
    "\n",
    "\n",
    "# Train the model\n",
    "xception.fit_generator(\n",
    "    train_data_gen,\n",
    "    validation_data=valid_data_gen, \n",
    "    steps_per_epoch=np.ceil(train_size/batch_size),\n",
    "    validation_steps=np.ceil(valid_size/batch_size),\n",
    "    epochs=epochs, \n",
    "    callbacks=[checkpoint_cb, tensorboard_cb], \n",
    "    verbose=1)\n",
    "\n",
    "# Print the time of execution\n",
    "print(\"--- \" + str(int((time.time() - start_time)//3600)) + \" hours \" \n",
    "      + str(int(((time.time() - start_time)%3600)//60)) + \" mins ---\")"
   ]
  },
  {
   "cell_type": "code",
   "execution_count": 35,
   "metadata": {},
   "outputs": [
    {
     "name": "stdout",
     "output_type": "stream",
     "text": [
      "190/190 [==============================] - 11s 58ms/step - loss: 4.7428 - acc: 0.0175\n"
     ]
    },
    {
     "data": {
      "text/plain": [
       "[4.742817780846043, 0.01754386]"
      ]
     },
     "execution_count": 35,
     "metadata": {},
     "output_type": "execute_result"
    }
   ],
   "source": [
    "# Evaluate the model on test data\n",
    "xception.load_weights('xception1.h5')\n",
    "\n",
    "xception.evaluate(test_data_gen)"
   ]
  },
  {
   "cell_type": "markdown",
   "metadata": {},
   "source": [
    "### Exécution n#2 : 40 epochs"
   ]
  },
  {
   "cell_type": "code",
   "execution_count": 38,
   "metadata": {},
   "outputs": [],
   "source": [
    "# Checkpoint_cb : save the best model\n",
    "checkpoint_cb = keras.callbacks.ModelCheckpoint(\"xception2.h5\", save_best_only=True)\n",
    "\n",
    "# Early stopping : stop the execution if the model do not improve the performance for 5 epochs                                \n",
    "early_stopping_cb = keras.callbacks.EarlyStopping(patience=5, \n",
    "                                                 restore_best_weights=True)"
   ]
  },
  {
   "cell_type": "code",
   "execution_count": 39,
   "metadata": {},
   "outputs": [
    {
     "name": "stdout",
     "output_type": "stream",
     "text": [
      "Epoch 1/40\n",
      "375/375 [==============================] - 201s 535ms/step - loss: 4.8037 - acc: 0.0104 - val_loss: 4.7533 - val_acc: 0.0160\n",
      "Epoch 2/40\n",
      "375/375 [==============================] - 180s 479ms/step - loss: 4.7329 - acc: 0.0190 - val_loss: 4.6719 - val_acc: 0.0344\n",
      "Epoch 3/40\n",
      "375/375 [==============================] - 180s 480ms/step - loss: 4.6463 - acc: 0.0393 - val_loss: 4.5530 - val_acc: 0.0743\n",
      "Epoch 4/40\n",
      "375/375 [==============================] - 179s 478ms/step - loss: 4.5301 - acc: 0.0784 - val_loss: 4.4077 - val_acc: 0.1472\n",
      "Epoch 5/40\n",
      "375/375 [==============================] - 179s 477ms/step - loss: 4.3864 - acc: 0.1577 - val_loss: 4.2318 - val_acc: 0.2608\n",
      "Epoch 6/40\n",
      "375/375 [==============================] - 180s 481ms/step - loss: 4.2138 - acc: 0.2659 - val_loss: 4.0215 - val_acc: 0.3861\n",
      "Epoch 7/40\n",
      "375/375 [==============================] - 178s 475ms/step - loss: 4.0152 - acc: 0.3740 - val_loss: 3.7829 - val_acc: 0.4819\n",
      "Epoch 8/40\n",
      "375/375 [==============================] - 179s 477ms/step - loss: 3.7997 - acc: 0.4577 - val_loss: 3.5344 - val_acc: 0.5524\n",
      "Epoch 9/40\n",
      "375/375 [==============================] - 180s 479ms/step - loss: 3.5651 - acc: 0.5306 - val_loss: 3.2652 - val_acc: 0.6160\n",
      "Epoch 10/40\n",
      "375/375 [==============================] - 180s 479ms/step - loss: 3.3336 - acc: 0.5767 - val_loss: 3.0046 - val_acc: 0.6583\n",
      "Epoch 11/40\n",
      "375/375 [==============================] - 180s 479ms/step - loss: 3.0933 - acc: 0.6124 - val_loss: 2.7560 - val_acc: 0.6944\n",
      "Epoch 12/40\n",
      "375/375 [==============================] - 179s 477ms/step - loss: 2.8744 - acc: 0.6453 - val_loss: 2.5061 - val_acc: 0.7184\n",
      "Epoch 13/40\n",
      "375/375 [==============================] - 179s 479ms/step - loss: 2.6541 - acc: 0.6673 - val_loss: 2.2955 - val_acc: 0.7358\n",
      "Epoch 14/40\n",
      "375/375 [==============================] - 180s 481ms/step - loss: 2.4641 - acc: 0.6868 - val_loss: 2.0991 - val_acc: 0.7497\n",
      "Epoch 15/40\n",
      "375/375 [==============================] - 178s 476ms/step - loss: 2.2845 - acc: 0.7024 - val_loss: 1.9122 - val_acc: 0.7604\n",
      "Epoch 16/40\n",
      "375/375 [==============================] - 180s 480ms/step - loss: 2.1215 - acc: 0.7172 - val_loss: 1.7546 - val_acc: 0.7722\n",
      "Epoch 17/40\n",
      "375/375 [==============================] - 180s 479ms/step - loss: 1.9678 - acc: 0.7273 - val_loss: 1.6288 - val_acc: 0.7819\n",
      "Epoch 18/40\n",
      "375/375 [==============================] - 180s 480ms/step - loss: 1.8427 - acc: 0.7385 - val_loss: 1.5036 - val_acc: 0.7896\n",
      "Epoch 19/40\n",
      "375/375 [==============================] - 179s 478ms/step - loss: 1.7217 - acc: 0.7437 - val_loss: 1.3936 - val_acc: 0.8000\n",
      "Epoch 20/40\n",
      "375/375 [==============================] - 178s 474ms/step - loss: 1.6236 - acc: 0.7492 - val_loss: 1.3002 - val_acc: 0.8038\n",
      "Epoch 21/40\n",
      "375/375 [==============================] - 180s 479ms/step - loss: 1.5236 - acc: 0.7622 - val_loss: 1.2200 - val_acc: 0.8080\n",
      "Epoch 22/40\n",
      "375/375 [==============================] - 178s 475ms/step - loss: 1.4423 - acc: 0.7663 - val_loss: 1.1437 - val_acc: 0.8115\n",
      "Epoch 23/40\n",
      "375/375 [==============================] - 180s 479ms/step - loss: 1.3766 - acc: 0.7717 - val_loss: 1.0813 - val_acc: 0.8142\n",
      "Epoch 24/40\n",
      "375/375 [==============================] - 181s 482ms/step - loss: 1.3061 - acc: 0.7765 - val_loss: 1.0292 - val_acc: 0.8188\n",
      "Epoch 25/40\n",
      "375/375 [==============================] - 180s 481ms/step - loss: 1.2554 - acc: 0.7771 - val_loss: 0.9808 - val_acc: 0.8191\n",
      "Epoch 26/40\n",
      "375/375 [==============================] - 180s 479ms/step - loss: 1.1922 - acc: 0.7872 - val_loss: 0.9380 - val_acc: 0.8233\n",
      "Epoch 27/40\n",
      "375/375 [==============================] - 182s 487ms/step - loss: 1.1503 - acc: 0.7895 - val_loss: 0.8987 - val_acc: 0.8257\n",
      "Epoch 28/40\n",
      "375/375 [==============================] - 181s 483ms/step - loss: 1.1063 - acc: 0.7960 - val_loss: 0.8612 - val_acc: 0.8288\n",
      "Epoch 29/40\n",
      "375/375 [==============================] - 180s 481ms/step - loss: 1.0600 - acc: 0.7977 - val_loss: 0.8401 - val_acc: 0.8281\n",
      "Epoch 30/40\n",
      "375/375 [==============================] - 180s 480ms/step - loss: 1.0318 - acc: 0.7971 - val_loss: 0.8094 - val_acc: 0.8323\n",
      "Epoch 31/40\n",
      "375/375 [==============================] - 181s 482ms/step - loss: 1.0014 - acc: 0.8030 - val_loss: 0.7836 - val_acc: 0.8344\n",
      "Epoch 32/40\n",
      "375/375 [==============================] - 180s 480ms/step - loss: 0.9653 - acc: 0.8037 - val_loss: 0.7613 - val_acc: 0.8354\n",
      "Epoch 33/40\n",
      "375/375 [==============================] - 179s 478ms/step - loss: 0.9389 - acc: 0.8095 - val_loss: 0.7402 - val_acc: 0.8375\n",
      "Epoch 34/40\n",
      "375/375 [==============================] - 180s 479ms/step - loss: 0.9101 - acc: 0.8135 - val_loss: 0.7242 - val_acc: 0.8378\n",
      "Epoch 35/40\n",
      "375/375 [==============================] - 180s 481ms/step - loss: 0.8900 - acc: 0.8130 - val_loss: 0.7056 - val_acc: 0.8361\n",
      "Epoch 36/40\n",
      "375/375 [==============================] - 181s 482ms/step - loss: 0.8622 - acc: 0.8162 - val_loss: 0.6918 - val_acc: 0.8385\n",
      "Epoch 37/40\n",
      "375/375 [==============================] - 180s 481ms/step - loss: 0.8560 - acc: 0.8158 - val_loss: 0.6754 - val_acc: 0.8396\n",
      "Epoch 38/40\n",
      "375/375 [==============================] - 179s 478ms/step - loss: 0.8380 - acc: 0.8197 - val_loss: 0.6613 - val_acc: 0.8444\n",
      "Epoch 39/40\n",
      "375/375 [==============================] - 179s 478ms/step - loss: 0.8154 - acc: 0.8230 - val_loss: 0.6525 - val_acc: 0.8434\n",
      "Epoch 40/40\n",
      "375/375 [==============================] - 178s 475ms/step - loss: 0.8000 - acc: 0.8225 - val_loss: 0.6415 - val_acc: 0.8458\n",
      "--- 2 hours 0 mins ---\n"
     ]
    }
   ],
   "source": [
    "# Second execution 30e pochs\n",
    "\n",
    "# Measure the time of execution\n",
    "start_time = time.time()\n",
    "\n",
    "# Set epochs \n",
    "epochs = 40\n",
    "\n",
    "\n",
    "# Train the model\n",
    "history2 = xception.fit_generator(\n",
    "    train_data_gen,\n",
    "    validation_data=valid_data_gen, \n",
    "    steps_per_epoch=np.ceil(train_size/batch_size),\n",
    "    validation_steps=np.ceil(valid_size/batch_size),\n",
    "    epochs=epochs, \n",
    "    callbacks=[checkpoint_cb, early_stopping_cb], \n",
    "    verbose=1)\n",
    "\n",
    "# Print the time of execution\n",
    "print(\"--- \" + str(int((time.time() - start_time)//3600)) + \" hours \" \n",
    "      + str(int(((time.time() - start_time)%3600)//60)) + \" mins ---\")"
   ]
  },
  {
   "cell_type": "code",
   "execution_count": 40,
   "metadata": {},
   "outputs": [
    {
     "data": {
      "image/png": "[encoded data removed]",
      "text/plain": [
       "<Figure size 432x288 with 1 Axes>"
      ]
     },
     "metadata": {},
     "output_type": "display_data"
    },
    {
     "data": {
      "image/png": "[encoded data removed]",
      "text/plain": [
       "<Figure size 432x288 with 1 Axes>"
      ]
     },
     "metadata": {},
     "output_type": "display_data"
    }
   ],
   "source": [
    "#Plot the training & validation loss & accuracy\n",
    "import matplotlib.pyplot as plt\n",
    "\n",
    "acc = history2.history['acc']\n",
    "val_acc = history2.history['val_acc']\n",
    "loss = history2.history['loss']\n",
    "val_loss = history2.history['val_loss']\n",
    "\n",
    "epochs = range(len(acc))\n",
    "\n",
    "plt.plot(epochs, acc, 'bo', label='Training acc')\n",
    "plt.plot(epochs, val_acc, 'b', label='Validation acc')\n",
    "plt.title('Training and validation accuracy')\n",
    "plt.legend()\n",
    "\n",
    "plt.figure()\n",
    "\n",
    "plt.plot(epochs, loss, 'bo', label='Training loss')\n",
    "plt.plot(epochs, val_loss, 'b', label='Validation loss')\n",
    "plt.title('Training and validation loss')\n",
    "plt.legend()\n",
    "\n",
    "plt.show()"
   ]
  },
  {
   "cell_type": "code",
   "execution_count": 41,
   "metadata": {},
   "outputs": [
    {
     "name": "stdout",
     "output_type": "stream",
     "text": [
      "179/179 [==============================] - 11s 59ms/step - loss: 0.6145 - acc: 0.8575\n"
     ]
    },
    {
     "data": {
      "text/plain": [
       "[0.6144738162363041, 0.8575439]"
      ]
     },
     "execution_count": 41,
     "metadata": {},
     "output_type": "execute_result"
    }
   ],
   "source": [
    "# Evaluate the model on test data\n",
    "xception.load_weights('xception2.h5')\n",
    "\n",
    "xception.evaluate(test_data_gen)"
   ]
  },
  {
   "cell_type": "markdown",
   "metadata": {},
   "source": [
    "# Test de performance"
   ]
  },
  {
   "cell_type": "code",
   "execution_count": 11,
   "metadata": {},
   "outputs": [
    {
     "name": "stdout",
     "output_type": "stream",
     "text": [
      "/home/ec2-user/SageMaker/best_breeds_redim\n"
     ]
    }
   ],
   "source": [
    "#%cd /content/gdrive/My\\ Drive/Colab\\ Notebooks/best_breeds_redim\n",
    "#%cd Data/redim/\n",
    "%cd best_breeds_redim"
   ]
  },
  {
   "cell_type": "code",
   "execution_count": 12,
   "metadata": {},
   "outputs": [],
   "source": [
    "train_data_dir = pathlib.Path('train')\n",
    "test_data_dir = pathlib.Path('test')\n",
    "valid_data_dir = pathlib.Path('valid')"
   ]
  },
  {
   "cell_type": "code",
   "execution_count": 13,
   "metadata": {},
   "outputs": [
    {
     "name": "stdout",
     "output_type": "stream",
     "text": [
      "Number of train photos : 500\n",
      "Number of validation photos : 125\n",
      "Number of test photos : 164\n"
     ]
    }
   ],
   "source": [
    "# Calculate the data size\n",
    "train_size = len(list(train_data_dir.glob('*/*.jpg')))\n",
    "valid_size = len(list(valid_data_dir.glob('*/*.jpg')))\n",
    "test_size = len(list(test_data_dir.glob('*/*.jpg')))\n",
    "print(\"Number of train photos : \" + str(train_size))\n",
    "print(\"Number of validation photos : \" + str(valid_size))\n",
    "print(\"Number of test photos : \" + str(test_size))"
   ]
  },
  {
   "cell_type": "code",
   "execution_count": 14,
   "metadata": {},
   "outputs": [],
   "source": [
    "# Obtain class names\n",
    "\n",
    "CLASS_NAMES = np.array([item.name for item in train_data_dir.glob('*') if item.name != \"LICENSE.txt\"])"
   ]
  },
  {
   "cell_type": "code",
   "execution_count": 15,
   "metadata": {},
   "outputs": [],
   "source": [
    "batch_size = 20\n",
    "IMG_HEIGHT = 224\n",
    "IMG_WIDTH = 224"
   ]
  },
  {
   "cell_type": "code",
   "execution_count": 16,
   "metadata": {},
   "outputs": [],
   "source": [
    "# The 1./255 is to convert from uint8 to float32 in range [0,1].\n",
    "train_generator = ImageDataGenerator(rescale=1./255)"
   ]
  },
  {
   "cell_type": "code",
   "execution_count": 17,
   "metadata": {},
   "outputs": [
    {
     "name": "stdout",
     "output_type": "stream",
     "text": [
      "Found 500 images belonging to 5 classes.\n"
     ]
    }
   ],
   "source": [
    "train_data_gen = train_generator.flow_from_directory(directory=str(train_data_dir),\n",
    "                                                     seed=23,\n",
    "                                                     batch_size=batch_size,\n",
    "                                                     shuffle=True,\n",
    "                                                     target_size=(IMG_HEIGHT, IMG_WIDTH),\n",
    "                                                     classes = list(CLASS_NAMES), \n",
    "                                                     class_mode=\"sparse\"\n",
    "                                                     )"
   ]
  },
  {
   "cell_type": "code",
   "execution_count": 18,
   "metadata": {},
   "outputs": [],
   "source": [
    "# The 1./255 is to convert from uint8 to float32 in range [0,1].\n",
    "test_generator = ImageDataGenerator(rescale=1./255)"
   ]
  },
  {
   "cell_type": "code",
   "execution_count": 19,
   "metadata": {},
   "outputs": [
    {
     "name": "stdout",
     "output_type": "stream",
     "text": [
      "Found 125 images belonging to 5 classes.\n"
     ]
    }
   ],
   "source": [
    "valid_data_gen = test_generator.flow_from_directory(directory=str(valid_data_dir),\n",
    "                                                     seed=23,\n",
    "                                                     batch_size=batch_size,\n",
    "                                                     shuffle=True,\n",
    "                                                     target_size=(IMG_HEIGHT, IMG_WIDTH),\n",
    "                                                     classes = list(CLASS_NAMES),\n",
    "                                                     class_mode=\"sparse\"\n",
    "                                                     )"
   ]
  },
  {
   "cell_type": "code",
   "execution_count": 20,
   "metadata": {},
   "outputs": [
    {
     "name": "stdout",
     "output_type": "stream",
     "text": [
      "WARNING:tensorflow:From /home/ec2-user/anaconda3/envs/tensorflow_p27/lib/python2.7/site-packages/tensorflow/python/ops/init_ops.py:1251: calling __init__ (from tensorflow.python.ops.init_ops) with dtype is deprecated and will be removed in a future version.\n",
      "Instructions for updating:\n",
      "Call initializer instance with the dtype argument instead of passing it to the constructor\n",
      "Model: \"sequential\"\n",
      "_________________________________________________________________\n",
      "Layer (type)                 Output Shape              Param #   \n",
      "=================================================================\n",
      "conv2d (Conv2D)              (None, 112, 112, 64)      9472      \n",
      "_________________________________________________________________\n",
      "max_pooling2d (MaxPooling2D) (None, 56, 56, 64)        0         \n",
      "_________________________________________________________________\n",
      "conv2d_1 (Conv2D)            (None, 28, 28, 128)       73856     \n",
      "_________________________________________________________________\n",
      "conv2d_2 (Conv2D)            (None, 14, 14, 128)       147584    \n",
      "_________________________________________________________________\n",
      "max_pooling2d_1 (MaxPooling2 (None, 7, 7, 128)         0         \n",
      "_________________________________________________________________\n",
      "conv2d_3 (Conv2D)            (None, 7, 7, 256)         295168    \n",
      "_________________________________________________________________\n",
      "conv2d_4 (Conv2D)            (None, 7, 7, 256)         590080    \n",
      "_________________________________________________________________\n",
      "max_pooling2d_2 (MaxPooling2 (None, 3, 3, 256)         0         \n",
      "_________________________________________________________________\n",
      "flatten (Flatten)            (None, 2304)              0         \n",
      "_________________________________________________________________\n",
      "dense (Dense)                (None, 128)               295040    \n",
      "_________________________________________________________________\n",
      "dense_1 (Dense)              (None, 64)                8256      \n",
      "_________________________________________________________________\n",
      "dense_2 (Dense)              (None, 5)                 325       \n",
      "=================================================================\n",
      "Total params: 1,419,781\n",
      "Trainable params: 1,419,781\n",
      "Non-trainable params: 0\n",
      "_________________________________________________________________\n"
     ]
    }
   ],
   "source": [
    "my_CNN1 = keras.models.Sequential([\n",
    "    keras.layers.Conv2D(64, 7, activation=\"relu\", padding=\"same\", strides=2, input_shape=[224, 224, 3]), \n",
    "    keras.layers.MaxPooling2D(2),\n",
    "    keras.layers.Conv2D(128, 3, activation=\"relu\", padding=\"same\", strides=2),\n",
    "    keras.layers.Conv2D(128, 3, activation=\"relu\", padding=\"same\", strides=2),\n",
    "    keras.layers.MaxPooling2D(2),\n",
    "    keras.layers.Conv2D(256, 3, activation=\"relu\", padding=\"same\", strides=1),\n",
    "    keras.layers.Conv2D(256, 3, activation=\"relu\", padding=\"same\", strides=1),\n",
    "    keras.layers.MaxPooling2D(2),\n",
    "    keras.layers.Flatten(),\n",
    "    keras.layers.Dense(128, activation=\"relu\"),\n",
    "    keras.layers.Dense(64, activation=\"relu\"),\n",
    "    keras.layers.Dense(5, activation=\"softmax\")\n",
    "])\n",
    "my_CNN1.summary()"
   ]
  },
  {
   "cell_type": "code",
   "execution_count": 23,
   "metadata": {},
   "outputs": [],
   "source": [
    "# Compile the modele \n",
    "my_CNN1.compile(optimizer=keras.optimizers.SGD(lr=0.0001, momentum=0.9), \n",
    "                loss='sparse_categorical_crossentropy', metrics=['accuracy'])"
   ]
  },
  {
   "cell_type": "code",
   "execution_count": 25,
   "metadata": {},
   "outputs": [
    {
     "name": "stdout",
     "output_type": "stream",
     "text": [
      "Epoch 1/10\n",
      "25/25 [==============================] - 2s 74ms/step - loss: 1.6065 - acc: 0.2480 - val_loss: 1.6064 - val_acc: 0.2083\n",
      "Epoch 2/10\n",
      "25/25 [==============================] - 1s 44ms/step - loss: 1.6063 - acc: 0.2440 - val_loss: 1.6062 - val_acc: 0.2083\n",
      "Epoch 3/10\n",
      "25/25 [==============================] - 1s 38ms/step - loss: 1.6061 - acc: 0.2380 - val_loss: 1.6059 - val_acc: 0.2083\n",
      "Epoch 4/10\n",
      "25/25 [==============================] - 1s 41ms/step - loss: 1.6058 - acc: 0.2400 - val_loss: 1.6057 - val_acc: 0.2167\n",
      "Epoch 5/10\n",
      "25/25 [==============================] - 1s 44ms/step - loss: 1.6055 - acc: 0.2380 - val_loss: 1.6055 - val_acc: 0.2500\n",
      "Epoch 6/10\n",
      "25/25 [==============================] - 1s 38ms/step - loss: 1.6053 - acc: 0.2360 - val_loss: 1.6052 - val_acc: 0.2667\n",
      "Epoch 7/10\n",
      "25/25 [==============================] - 1s 47ms/step - loss: 1.6050 - acc: 0.2460 - val_loss: 1.6050 - val_acc: 0.2667\n",
      "Epoch 8/10\n",
      "25/25 [==============================] - 1s 38ms/step - loss: 1.6047 - acc: 0.2640 - val_loss: 1.6047 - val_acc: 0.2833\n",
      "Epoch 9/10\n",
      "25/25 [==============================] - 1s 40ms/step - loss: 1.6044 - acc: 0.2560 - val_loss: 1.6045 - val_acc: 0.2583\n",
      "Epoch 10/10\n",
      "25/25 [==============================] - 1s 45ms/step - loss: 1.6042 - acc: 0.2700 - val_loss: 1.6042 - val_acc: 0.2917\n",
      "--- 11 sec \n"
     ]
    }
   ],
   "source": [
    "# Measure the time of execution\n",
    "start_time = time.time()\n",
    "\n",
    "# Set epochs\n",
    "epochs = 10\n",
    "\n",
    "# Train the model\n",
    "my_CNN1.fit_generator(\n",
    "    train_data_gen,\n",
    "    validation_data=valid_data_gen, \n",
    "    steps_per_epoch=np.ceil(train_size/batch_size),\n",
    "    validation_steps=np.ceil(valid_size/batch_size),\n",
    "    epochs=epochs, \n",
    "    #callbacks=[checkpoint_cb, tensorboard_cb], \n",
    "    verbose=1)\n",
    "\n",
    "# Print the time of execution\n",
    "print(\"--- \" + str(int(time.time() - start_time)) + \" sec \") \n"
   ]
  }
 ],
 "metadata": {
  "accelerator": "GPU",
  "colab": {
   "name": "Projet6_echantillon.ipynb",
   "provenance": [],
   "toc_visible": true
  },
  "kernelspec": {
   "display_name": "Python 3",
   "language": "python",
   "name": "python3"
  },
  "language_info": {
   "codemirror_mode": {
    "name": "ipython",
    "version": 3
   },
   "file_extension": ".py",
   "mimetype": "text/x-python",
   "name": "python",
   "nbconvert_exporter": "python",
   "pygments_lexer": "ipython3",
   "version": "3.7.3"
  },
  "latex_envs": {
   "LaTeX_envs_menu_present": true,
   "autoclose": false,
   "autocomplete": true,
   "bibliofile": "biblio.bib",
   "cite_by": "apalike",
   "current_citInitial": 1,
   "eqLabelWithNumbers": true,
   "eqNumInitial": 1,
   "hotkeys": {
    "equation": "Ctrl-E",
    "itemize": "Ctrl-I"
   },
   "labels_anchors": false,
   "latex_user_defs": false,
   "report_style_numbering": false,
   "user_envs_cfg": false
  },
  "toc": {
   "base_numbering": 1,
   "nav_menu": {},
   "number_sections": true,
   "sideBar": true,
   "skip_h1_title": false,
   "title_cell": "Table of Contents",
   "title_sidebar": "Contents",
   "toc_cell": false,
   "toc_position": {
    "height": "calc(100% - 180px)",
    "left": "10px",
    "top": "150px",
    "width": "321.6px"
   },
   "toc_section_display": true,
   "toc_window_display": true
  }
 },
 "nbformat": 4,
 "nbformat_minor": 1
}
