{
 "cells": [
  {
   "cell_type": "code",
   "execution_count": 2,
   "metadata": {},
   "outputs": [],
   "source": [
    "# Charge the libraries\n",
    "import numpy as np\n",
    "import tensorflow as tf\n",
    "#from tensorflow import keras\n",
    "\n",
    "from keras.preprocessing.image import load_img\n",
    "from keras.preprocessing.image import img_to_array\n",
    "import pathlib"
   ]
  },
  {
   "cell_type": "code",
   "execution_count": 3,
   "metadata": {},
   "outputs": [
    {
     "name": "stdout",
     "output_type": "stream",
     "text": [
      "WARNING:tensorflow:From /home/ec2-user/anaconda3/envs/tensorflow_p27/lib/python2.7/site-packages/tensorflow/python/ops/init_ops.py:97: calling __init__ (from tensorflow.python.ops.init_ops) with dtype is deprecated and will be removed in a future version.\n",
      "Instructions for updating:\n",
      "Call initializer instance with the dtype argument instead of passing it to the constructor\n",
      "WARNING:tensorflow:From /home/ec2-user/anaconda3/envs/tensorflow_p27/lib/python2.7/site-packages/tensorflow/python/ops/init_ops.py:1251: calling __init__ (from tensorflow.python.ops.init_ops) with dtype is deprecated and will be removed in a future version.\n",
      "Instructions for updating:\n",
      "Call initializer instance with the dtype argument instead of passing it to the constructor\n",
      "WARNING:tensorflow:From /home/ec2-user/anaconda3/envs/tensorflow_p27/lib/python2.7/site-packages/tensorflow/python/ops/init_ops.py:97: calling __init__ (from tensorflow.python.ops.init_ops) with dtype is deprecated and will be removed in a future version.\n",
      "Instructions for updating:\n",
      "Call initializer instance with the dtype argument instead of passing it to the constructor\n",
      "WARNING:tensorflow:From /home/ec2-user/anaconda3/envs/tensorflow_p27/lib/python2.7/site-packages/tensorflow/python/ops/init_ops.py:97: calling __init__ (from tensorflow.python.ops.init_ops) with dtype is deprecated and will be removed in a future version.\n",
      "Instructions for updating:\n",
      "Call initializer instance with the dtype argument instead of passing it to the constructor\n"
     ]
    }
   ],
   "source": [
    "# Load the model \n",
    "model = tf.keras.models.load_model('redim_download/xception2.h5')"
   ]
  },
  {
   "cell_type": "code",
   "execution_count": 11,
   "metadata": {},
   "outputs": [],
   "source": [
    "def predict_breed(filename):\n",
    "    \"\"\" Function which predicts the dog's breed and indicate the probability of the prediction.abs\n",
    "    \n",
    "    ARG : filename of the photo (ex. .jpg) or path to the photo in form of string\n",
    "    OUTPUT : print the breed + its probability in %\n",
    "    \n",
    "    \"\"\"\n",
    "    \n",
    "    # Load the image\n",
    "    img = load_img(filename, target_size=(224, 224))\n",
    "    # Convert to array\n",
    "    img = img_to_array(img)\n",
    "    # Reshape into a single sample with 3 channels\n",
    "    img = img.reshape(1, 224, 224, 3)\n",
    "    # Normalize the image and convert it to float\n",
    "    img=img/255.\n",
    "    # Predict the breed probabilities\n",
    "    result = model.predict(img)\n",
    "    # Indicate the position (number) of the most probable breed\n",
    "    pos = np.argmax(result[0])\n",
    "    # Indicate the path to the train data \n",
    "    train_data_dir = pathlib.Path('redim_download/train')\n",
    "    # Obtain class names\n",
    "    CLASS_NAMES = np.array([item.name for item in train_data_dir.glob('*') if item.name != \"LICENSE.txt\"])\n",
    "    # Return name of the most probable class\n",
    "    print (\"Ce chien est probablement un : \" + str(CLASS_NAMES[pos][10:]))\n",
    "    print (\"La probabilité qu'il s'agit de cette race est : \" + str(round(result[0][pos]*100,2)) + \"%\")"
   ]
  },
  {
   "cell_type": "code",
   "execution_count": 12,
   "metadata": {},
   "outputs": [
    {
     "name": "stdout",
     "output_type": "stream",
     "text": [
      "Ce chien est probablement un : Irish_wolfhound\n",
      "La probabilité qu'il s'agit de cette race est : 8.51%\n"
     ]
    }
   ],
   "source": [
    "predict_breed('resized_tapka.jpg')"
   ]
  },
  {
   "cell_type": "code",
   "execution_count": 13,
   "metadata": {},
   "outputs": [
    {
     "name": "stdout",
     "output_type": "stream",
     "text": [
      "Ce chien est probablement un : papillon\n",
      "La probabilité qu'il s'agit de cette race est : 94.37%\n"
     ]
    }
   ],
   "source": [
    "predict_breed('redim_download/n02086910_54.jpg')"
   ]
  },
  {
   "cell_type": "code",
   "execution_count": 16,
   "metadata": {},
   "outputs": [
    {
     "name": "stdout",
     "output_type": "stream",
     "text": [
      "Ce chien est probablement un : bluetick\n",
      "La probabilité qu'il s'agit de cette race est : 99.27%\n"
     ]
    }
   ],
   "source": [
    "predict_breed('redim_download/n02088632_401.jpg')"
   ]
  },
  {
   "cell_type": "code",
   "execution_count": 17,
   "metadata": {},
   "outputs": [
    {
     "name": "stdout",
     "output_type": "stream",
     "text": [
      "Ce chien est probablement un : chow\n",
      "La probabilité qu'il s'agit de cette race est : 97.2%\n"
     ]
    }
   ],
   "source": [
    "predict_breed('redim_download/n02112137_347.jpg')"
   ]
  }
 ],
 "metadata": {
  "accelerator": "GPU",
  "colab": {
   "name": "Projet6_echantillon.ipynb",
   "provenance": [],
   "toc_visible": true
  },
  "kernelspec": {
   "display_name": "Python 3",
   "language": "python",
   "name": "python3"
  },
  "language_info": {
   "codemirror_mode": {
    "name": "ipython",
    "version": 3
   },
   "file_extension": ".py",
   "mimetype": "text/x-python",
   "name": "python",
   "nbconvert_exporter": "python",
   "pygments_lexer": "ipython3",
   "version": "3.7.3"
  },
  "latex_envs": {
   "LaTeX_envs_menu_present": true,
   "autoclose": false,
   "autocomplete": true,
   "bibliofile": "biblio.bib",
   "cite_by": "apalike",
   "current_citInitial": 1,
   "eqLabelWithNumbers": true,
   "eqNumInitial": 1,
   "hotkeys": {
    "equation": "Ctrl-E",
    "itemize": "Ctrl-I"
   },
   "labels_anchors": false,
   "latex_user_defs": false,
   "report_style_numbering": false,
   "user_envs_cfg": false
  },
  "toc": {
   "base_numbering": 1,
   "nav_menu": {},
   "number_sections": true,
   "sideBar": true,
   "skip_h1_title": false,
   "title_cell": "Table of Contents",
   "title_sidebar": "Contents",
   "toc_cell": false,
   "toc_position": {
    "height": "calc(100% - 180px)",
    "left": "10px",
    "top": "150px",
    "width": "321.6px"
   },
   "toc_section_display": true,
   "toc_window_display": true
  }
 },
 "nbformat": 4,
 "nbformat_minor": 1
}
